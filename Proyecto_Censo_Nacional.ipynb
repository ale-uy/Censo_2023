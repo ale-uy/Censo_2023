{
  "cells": [
    {
      "cell_type": "markdown",
      "metadata": {
        "id": "9ZROdFY1mMMj"
      },
      "source": [
        "# Análisis de la Brecha Digital en Uruguay: Perfiles de Conectividad y Factores Asociados (Censo 2023)\n",
        "\n",
        "## Introducción\n",
        "\n",
        "Este proyecto utiliza los microdatos del Censo de Población, Hogares y Viviendas de Uruguay 2023 para realizar un análisis de la brecha digital en el país. La brecha digital, entendida como las desigualdades en el acceso y uso de las Tecnologías de la Información y Comunicación (TIC), es un factor clave para el desarrollo social y económico. Comprender su magnitud, distribución geográfica y los factores asociados es fundamental para el diseño de políticas públicas efectivas.\n",
        "\n",
        "El análisis se estructura en dos fases principales, combinando técnicas de aprendizaje no supervisado y supervisado para obtener una visión completa del fenómeno.\n",
        "\n",
        "## Objetivos Generales\n",
        "\n",
        "1.  **Identificar y caracterizar** diferentes perfiles o tipologías de hogares en Uruguay según su nivel y tipo de acceso a recursos digitales clave (internet y dispositivos).\n",
        "2.  **Analizar la distribución geográfica** de estos perfiles de conectividad para visualizar las desigualdades territoriales.\n",
        "3.  **Determinar los factores socioeconómicos, demográficos y de infraestructura** más relevantes que explican las diferencias en el acceso digital entre los hogares dentro de cada perfil identificado.\n",
        "\n",
        "## Objetivos Específicos\n",
        "\n",
        "**Fase 1: Identificación y Mapeo de Perfiles de Conectividad (Análisis No Supervisado)**\n",
        "\n",
        "*   Aplicar algoritmos de clustering (Kmeans) sobre variables seleccionadas de hogares, viviendas y características del jefe/a de hogar para agrupar hogares con patrones similares de acceso a internet (`HOGCE11`), posesión de dispositivos (`HOGCE28`) y contexto clave (electricidad, educación del jefe, etc.).\n",
        "*   Describir cada cluster resultante (perfil de hogar) en términos de sus características promedio de conectividad, socioeconómicas, demográficas y de vivienda.\n",
        "\n",
        "**Fase 2: Análisis de Factores Relevantes por Perfil (Análisis Supervisado / Descriptivo)**\n",
        "\n",
        "*   Para los perfiles identificados en la Fase 1 con menor conectividad:\n",
        "    *   Construir modelos de clasificación para predecir la pertenencia a ese cluster vs otros, identificando los predictores más importantes.\n",
        "    *   Realizar un análisis descriptivo comparando las características (educación, ocupación, tipo de hogar, etc.) de los hogares dentro de ese cluster con el promedio nacional o con otros clusters, para resaltar los factores diferenciales clave.\n",
        "*   Interpretar los resultados para entender qué variables tienen mayor impacto en la probabilidad de que un hogar pertenezca a un perfil de baja conectividad, una vez considerado el contexto general definido por el cluster.\n",
        "\n",
        "## Fuentes de Datos\n",
        "\n",
        "*   Microdatos del Censo de Población, Hogares y Viviendas 2023 ([INE Uruguay](https://www.gub.uy/instituto-nacional-estadistica/politicas-y-gestion/microdatos-censo-2023-anonimizados)).\n",
        "    *   [Dataset de Hogares](https://www5.ine.gub.uy/documents/CENSO%202023/Microdatos/hogares_ext_26_02.rar).\n",
        "    *   [Dataset de Viviendas](https://www5.ine.gub.uy/documents/CENSO%202023/Microdatos/viviendas_ext_26_02.rar).\n",
        "    *   [Dataset de Personas](https://www5.ine.gub.uy/documents/CENSO%202023/Microdatos/personas_ext_26_02.rar).\n",
        "*   Documentación asociada a los microdatos ([Diccionarios de Variables](https://www5.ine.gub.uy/documents/CENSO%202023/Microdatos/Diccionario%20de%20variables%202023.xlsx)).\n",
        "\n",
        "## Metodología Propuesta\n",
        "\n",
        "1.  **Preprocesamiento:** Carga, limpieza, manejo de valores faltantes, filtrado por sub-universo relevante (hogares particulares ocupados), unión de los datasets.\n",
        "2.  **Ingeniería de Características:** Creación de variables derivadas. Codificación de variables categóricas y escalado de numéricas según sea necesario para los algoritmos.\n",
        "3.  **Fase 1 - Clustering:** Aplicación de Kmeans, selección del número óptimo de clusters, asignación de etiquetas de cluster.\n",
        "4.  **Fase 2 - Análisis por Cluster:** Construcción y evaluación de modelos predictivos (o análisis descriptivo comparativo) para el cluster de interés. Interpretación de la importancia de variables.\n",
        "5.  **Conclusiones:** Síntesis de los hallazgos sobre los perfiles de conectividad, su distribución y los factores asociados a la brecha digital.\n",
        "\n",
        "## Resultados Esperados\n",
        "\n",
        "*   Una tipología clara de hogares uruguayos basada en su perfil de conectividad digital.\n",
        "*   Identificación y cuantificación de los factores (educativos, económicos, geográficos, de infraestructura) más determinantes de la exclusión digital, con especificidades según el perfil del hogar.\n",
        "*   Insights relevantes para informar políticas públicas orientadas a reducir la brecha digital en Uruguay."
      ]
    },
    {
      "cell_type": "markdown",
      "source": [
        "---\n",
        "# FASE I: CLUSTERING"
      ],
      "metadata": {
        "id": "AB96I6A_4Cah"
      }
    },
    {
      "cell_type": "code",
      "execution_count": null,
      "metadata": {
        "id": "-kEeF9bImMMm"
      },
      "outputs": [],
      "source": [
        "# --- Variables a seleccionar para la FASE 1: CLUSTERING ---\n",
        "\n",
        "# --- PARTE I: Dataset de HOGARES ---\n",
        "variables_hogares_cluster = [\n",
        "    # --- Claves ---\n",
        "    'DIRECCION_ID',      # ID de la dirección (para unir con viviendas y personas)\n",
        "    'VIVID',             # ID de Vivienda dentro de la Dirección\n",
        "    'HOGID',             # ID del Hogar dentro de la vivienda\n",
        "\n",
        "    # --- Variables Centrales de Conectividad (Features para Clustering) ---\n",
        "    'HOGCE11',           # Acceso a Internet (Sí/No) [Categórica]\n",
        "    'HOGCE28',           # Posesión de Computadora/Laptop/Tablet (Sí/No) [Categórica]\n",
        "\n",
        "    # --- Variables de Contexto Socioeconómico/Estructural Clave (Features para Clustering) ---\n",
        "    'HOGTE01',           # Tenencia de la vivienda [Categórica]\n",
        "    'HOGPR01_CON_RRAA',  # Cantidad total de personas [Numérica]\n",
        "    'HOGHD01',           # Cantidad de habitaciones usadas para dormir [Numérica]\n",
        "\n",
        "    # --- Variables Geográficas (para describir/mapear después) ---\n",
        "    'REGION_4',          # Región geográfica agregada\n",
        "    'AREA',              # Zona (Urbana/Rural)\n",
        "]\n",
        "\n",
        "# --- PARTE II: Dataset de VIVIENDAS ---\n",
        "variables_viviendas_cluster = [\n",
        "    # --- Clave ---\n",
        "    'DIRECCION_ID',      # ID de la dirección (para unir con hogares y personas)\n",
        "    'VIVID',             # ID de Vivienda dentro de la Dirección\n",
        "\n",
        "    # --- Variables de Contexto/Infraestructura Clave (Features para Clustering) ---\n",
        "    'VIVDV07',           # Principal medio de alumbrado eléctrico [Categórica - Esencial!]\n",
        "    'MATERIALIDAD',      # Índice agregado de calidad de materiales [Categórica/Ordinal]\n",
        "]\n",
        "\n",
        "# --- PARTE III: Dataset de PERSONAS ---\n",
        "variables_personas_cluster = [\n",
        "    # --- Claves ---\n",
        "    'DIRECCION_ID',      # ID de la dirección (para unir con viviendas y hogares)\n",
        "    'VIVID',             # ID de Vivienda dentro de la Dirección (para unir)\n",
        "    'HOGID',             # ID del Hogar dentro de la vivienda (para unir)\n",
        "    'PERID',             # ID de Persona (para usar, posiblemente, en resultado final)\n",
        "    'PERPA01',           # Relación de parentesco (para identificar al jefe/a = 1)\n",
        "\n",
        "    # --- Variables del Individuo (para extraer las del Jefe/a como Features para Clustering) ---\n",
        "    'NIVELEDU',          # Máximo nivel educativo alcanzado [Categórica/Ordinal]\n",
        "    'PERNA01_TRAMO',     # Edad agrupada en tramoS [Categórica/Ordinal]\n",
        "]\n",
        "\n",
        "# --- PASOS IMPORTANTES con estas variables ---\n",
        "# 1. Cargar los datos usando estas listas.\n",
        "# 2. Filtrar por SUB-UNIVERSO adecuado (hogares particulares ocupados...).\n",
        "# 3. Unir Hogares y Viviendas (por VIVID).\n",
        "# 4. Unir Personas con el resultado anterior (por HOGID).\n",
        "# 5. Identificar al Jefe/a de Hogar (PERPA01 == 1) para cada HOGID.\n",
        "# 6. Limpiar y transformar los datos.\n",
        "# 7. Aplicar el algoritmo de clustering (Usaremos Kmeans).\n",
        "# 8. Añadir la etiqueta del cluster resultante al dataframe."
      ]
    },
    {
      "cell_type": "code",
      "execution_count": null,
      "metadata": {
        "id": "YPtD3Fq2ov97",
        "colab": {
          "base_uri": "https://localhost:8080/"
        },
        "outputId": "88643d8e-9e72-4e1e-8269-07e6a557c4ec"
      },
      "outputs": [
        {
          "output_type": "stream",
          "name": "stdout",
          "text": [
            "W: Skipping acquire of configured file 'main/source/Sources' as repository 'https://r2u.stat.illinois.edu/ubuntu jammy InRelease' does not seem to provide it (sources.list entry misspelt?)\n",
            "✅ Utilidad 'unrar' instalada.\n",
            "Directorios '/content/downloads' y '/content/data' listos.\n",
            "\n",
            "--- Descargando archivos ---\n",
            "Descargando hogares (hogares_ext_26_02.rar)...\n",
            "Descarga de hogares completa en /content/downloads/hogares_ext_26_02.rar\n",
            "Descargando viviendas (viviendas_ext_26_02.rar)...\n",
            "Descarga de viviendas completa en /content/downloads/viviendas_ext_26_02.rar\n",
            "Descargando personas (personas_ext_26_02.rar)...\n",
            "Descarga de personas completa en /content/downloads/personas_ext_26_02.rar\n",
            "\n",
            "--- Todas las descargas completadas ---\n",
            "\n",
            "--- Descomprimiendo archivos RAR ---\n",
            "Descomprimiendo viviendas_ext_26_02.rar en /content/data...\n",
            "\n",
            "UNRAR 6.11 beta 1 freeware      Copyright (c) 1993-2022 Alexander Roshal\n",
            "\n",
            "\n",
            "Extracting from /content/downloads/viviendas_ext_26_02.rar\n",
            "\n",
            "Extracting  /content/data/viviendas_ext_26_02.csv                        \b\b\b\b 41%\b\b\b\b 82%\b\b\b\b100%\b\b\b\b\b  OK \n",
            "All OK\n",
            "Descompresión de viviendas_ext_26_02.rar completada.\n",
            "Descomprimiendo personas_ext_26_02.rar en /content/data...\n",
            "\n",
            "UNRAR 6.11 beta 1 freeware      Copyright (c) 1993-2022 Alexander Roshal\n",
            "\n",
            "\n",
            "Extracting from /content/downloads/personas_ext_26_02.rar\n",
            "\n",
            "Extracting  /content/data/personas_ext_26_02.csv                         \b\b\b\b  5%\b\b\b\b 10%\b\b\b\b 16%\b\b\b\b 21%\b\b\b\b 26%\b\b\b\b 32%\b\b\b\b 37%\b\b\b\b 42%\b\b\b\b 48%\b\b\b\b 53%\b\b\b\b 59%\b\b\b\b 64%\b\b\b\b 69%\b\b\b\b 75%\b\b\b\b 80%\b\b\b\b 85%\b\b\b\b 91%\b\b\b\b 96%\b\b\b\b100%\b\b\b\b\b  OK \n",
            "All OK\n",
            "Descompresión de personas_ext_26_02.rar completada.\n",
            "Descomprimiendo hogares_ext_26_02.rar en /content/data...\n",
            "\n",
            "UNRAR 6.11 beta 1 freeware      Copyright (c) 1993-2022 Alexander Roshal\n",
            "\n",
            "\n",
            "Extracting from /content/downloads/hogares_ext_26_02.rar\n",
            "\n",
            "Extracting  /content/data/hogares_ext_26_02.csv                          \b\b\b\b 28%\b\b\b\b 56%\b\b\b\b 84%\b\b\b\b100%\b\b\b\b\b  OK \n",
            "All OK\n",
            "Descompresión de hogares_ext_26_02.rar completada.\n",
            "\n",
            "--- Descompresión finalizada ---\n",
            "\n",
            "--- Archivos extraídos en /content/data ---\n",
            "total 1.8G\n",
            "-rw-r--r-- 1 root root 152M Feb 26 22:16 hogares_ext_26_02.csv\n",
            "-rw-r--r-- 1 root root 1.4G Feb 27 16:27 personas_ext_26_02.csv\n",
            "-rw-r--r-- 1 root root 220M Feb 26 22:12 viviendas_ext_26_02.csv\n",
            "\n",
            "--- Limpiando archivos temporales ---\n",
            "Directorios de descarga eliminado.\n"
          ]
        }
      ],
      "source": [
        "# -*- coding: utf-8 -*-\n",
        "# ¡Celda especial para descargar los datos en Colab! Sugerido por la IA\n",
        "\n",
        "!apt-get update -qq # -qq para menos output\n",
        "!apt-get install -y unrar -qq # -y para aceptar automáticamente, -qq para menos output\n",
        "print(\"✅ Utilidad 'unrar' instalada.\")\n",
        "\n",
        "import os\n",
        "\n",
        "urls = {\n",
        "    \"hogares\": \"https://www5.ine.gub.uy/documents/CENSO%202023/Microdatos/hogares_ext_26_02.rar\",\n",
        "    \"viviendas\": \"https://www5.ine.gub.uy/documents/CENSO%202023/Microdatos/viviendas_ext_26_02.rar\",\n",
        "    \"personas\": \"https://www5.ine.gub.uy/documents/CENSO%202023/Microdatos/personas_ext_26_02.rar\",\n",
        "}\n",
        "\n",
        "# Directorios para organizar\n",
        "download_dir = \"/content/downloads\"\n",
        "extract_dir = \"/content/data\"\n",
        "\n",
        "os.makedirs(download_dir, exist_ok=True)\n",
        "os.makedirs(extract_dir, exist_ok=True)\n",
        "\n",
        "print(f\"Directorios '{download_dir}' y '{extract_dir}' listos.\")\n",
        "\n",
        "print(\"\\n--- Descargando archivos ---\")\n",
        "for key, url in urls.items():\n",
        "    filename = os.path.basename(url)\n",
        "    filename_safe = filename.replace(\"%20\", \"_\")\n",
        "    download_path = os.path.join(download_dir, filename_safe)\n",
        "\n",
        "    print(f\"Descargando {key} ({filename_safe})...\")\n",
        "    !wget -q -O \"{download_path}\" \"{url}\"\n",
        "    print(f\"Descarga de {key} completa en {download_path}\")\n",
        "\n",
        "print(\"\\n--- Todas las descargas completadas ---\")\n",
        "\n",
        "print(\"\\n--- Descomprimiendo archivos RAR ---\")\n",
        "rar_files_downloaded = [f for f in os.listdir(download_dir) if f.endswith(\".rar\")]\n",
        "\n",
        "if not rar_files_downloaded:\n",
        "    print(\"No se encontraron archivos .rar para descomprimir en\", download_dir)\n",
        "else:\n",
        "    for rar_filename in rar_files_downloaded:\n",
        "        rar_filepath = os.path.join(download_dir, rar_filename)\n",
        "        print(f\"Descomprimiendo {rar_filename} en {extract_dir}...\")\n",
        "        !unrar e -o+ \"{rar_filepath}\" \"{extract_dir}/\"\n",
        "        print(f\"Descompresión de {rar_filename} completada.\")\n",
        "\n",
        "print(\"\\n--- Descompresión finalizada ---\")\n",
        "\n",
        "# Verificar los archivos extraídos\n",
        "print(\"\\n--- Archivos extraídos en\", extract_dir, \"---\")\n",
        "!ls -lh \"{extract_dir}\"\n",
        "\n",
        "print(\"\\n--- Limpiando archivos temporales ---\")\n",
        "!rm -rf \"{download_dir}\"\n",
        "print(\"Directorios de descarga eliminado.\")"
      ]
    },
    {
      "cell_type": "code",
      "execution_count": null,
      "metadata": {
        "id": "EsFC-1QHmMMo"
      },
      "outputs": [],
      "source": [
        "# --- Crear directorios ---\n",
        "hogares_file = os.path.join(extract_dir, \"hogares_ext_26_02.csv\")\n",
        "viviendas_file = os.path.join(extract_dir, \"viviendas_ext_26_02.csv\")\n",
        "personas_file = os.path.join(extract_dir, \"personas_ext_26_02.csv\")"
      ]
    },
    {
      "cell_type": "code",
      "source": [
        "# --- Importar librerías necesarias ---\n",
        "import pandas as pd\n",
        "import numpy as np\n",
        "import seaborn as sns\n",
        "import matplotlib.pyplot as plt\n",
        "from sklearn.impute import SimpleImputer\n",
        "from sklearn.preprocessing import RobustScaler\n",
        "from sklearn.cluster import KMeans\n",
        "from sklearn.metrics import silhouette_score"
      ],
      "metadata": {
        "id": "g0KRCUogIFe7"
      },
      "execution_count": null,
      "outputs": []
    },
    {
      "cell_type": "code",
      "execution_count": null,
      "metadata": {
        "id": "qOnoYH06s_AS"
      },
      "outputs": [],
      "source": [
        "# --- Cargar los datos ---\n",
        "hogares = pd.read_csv(hogares_file, usecols=variables_hogares_cluster)\n",
        "viviendas = pd.read_csv(viviendas_file, usecols=variables_viviendas_cluster)\n",
        "personas = pd.read_csv(personas_file, usecols=variables_personas_cluster)"
      ]
    },
    {
      "cell_type": "code",
      "execution_count": null,
      "metadata": {
        "colab": {
          "base_uri": "https://localhost:8080/"
        },
        "id": "qffAzlc_mMMp",
        "outputId": "a721dee2-2eef-40e2-c96f-66813ee470cf"
      },
      "outputs": [
        {
          "output_type": "stream",
          "name": "stdout",
          "text": [
            "NaNs en DIRECCION_ID: 351837\n",
            "NaNs en VIVID: 351837\n",
            "NaNs en HOGID: 351837\n"
          ]
        }
      ],
      "source": [
        "# --- Analizar los nulos en el dataset de personas, lo solucionaremos mas adelante ---\n",
        "print(\"NaNs en DIRECCION_ID:\", personas['DIRECCION_ID'].isnull().sum())\n",
        "print(\"NaNs en VIVID:\", personas['VIVID'].isnull().sum())\n",
        "print(\"NaNs en HOGID:\", personas['HOGID'].isnull().sum())"
      ]
    },
    {
      "cell_type": "code",
      "execution_count": null,
      "metadata": {
        "id": "u_0CfU1QmMMq"
      },
      "outputs": [],
      "source": [
        "# --- Solucionar el tema de los tipos de datos para que no generen problemas mas adelante ---\n",
        "personas['DIRECCION_ID'] = personas['DIRECCION_ID'].astype('Int64')\n",
        "personas['VIVID'] = personas['VIVID'].astype('Int64')\n",
        "personas['HOGID'] = personas['HOGID'].astype('Int64')\n",
        "personas['PERID'] = personas['PERID'].astype('Int64')\n",
        "personas['PERPA01'] = personas['PERPA01'].astype('Int64')\n",
        "personas['NIVELEDU'] = personas['NIVELEDU'].astype('Int64')"
      ]
    },
    {
      "cell_type": "code",
      "execution_count": null,
      "metadata": {
        "id": "_9h8UjSJmMMr"
      },
      "outputs": [],
      "source": [
        "# --- Creamos las variables KEY para poder unir los dataframes ---\n",
        "viviendas['VIVIENDA_KEY'] = viviendas['DIRECCION_ID'].astype(str) + '_' + viviendas['VIVID'].astype(str)\n",
        "viviendas = viviendas.drop(columns=['DIRECCION_ID', 'VIVID'])\n",
        "\n",
        "hogares['VIVIENDA_KEY'] = hogares['DIRECCION_ID'].astype(str) + '_' + hogares['VIVID'].astype(str)\n",
        "hogares['HOGAR_KEY'] = hogares['VIVIENDA_KEY'].astype(str) + '_' + hogares['HOGID'].astype(str)\n",
        "hogares = hogares.drop(columns=['DIRECCION_ID', 'VIVID', 'HOGID'])\n",
        "\n",
        "personas['VIVIENDA_KEY'] = personas['DIRECCION_ID'].astype(str) + \"_\" + personas['VIVID'].astype(str)\n",
        "personas['HOGAR_KEY'] = personas['VIVIENDA_KEY'].astype(str) + \"_\" + personas['HOGID'].astype(str)\n",
        "personas = personas.drop(columns=['VIVIENDA_KEY', 'DIRECCION_ID', 'VIVID', 'HOGID'])"
      ]
    },
    {
      "cell_type": "code",
      "execution_count": null,
      "metadata": {
        "id": "cqS-VTZ1mMMr"
      },
      "outputs": [],
      "source": [
        "# --- Unir los dataframes de hogares y viviendas ---\n",
        "df_base = pd.merge(hogares, viviendas, on='VIVIENDA_KEY', how='left')\n",
        "df_base = df_base.drop(columns=['VIVIENDA_KEY'])"
      ]
    },
    {
      "cell_type": "code",
      "execution_count": null,
      "metadata": {
        "id": "kqdhL_qKmMMr"
      },
      "outputs": [],
      "source": [
        "# --- Filtramos las personas del hogar para obtener solo el referente ---\n",
        "jefes = personas[personas['PERPA01'] == 1].copy()\n",
        "jefes = jefes.drop(columns=['PERPA01'])"
      ]
    },
    {
      "cell_type": "code",
      "execution_count": null,
      "metadata": {
        "id": "bOvhS3tSmMMs"
      },
      "outputs": [],
      "source": [
        "# --- Unir el dataframe de personas con el dataframe base ---\n",
        "df_extendido = pd.merge(df_base, jefes, on='HOGAR_KEY', how='left')"
      ]
    },
    {
      "cell_type": "code",
      "execution_count": null,
      "metadata": {
        "colab": {
          "base_uri": "https://localhost:8080/"
        },
        "id": "KNA7SaB9mMMs",
        "outputId": "8edec7e5-b479-4725-a122-25bd9860f99b"
      },
      "outputs": [
        {
          "output_type": "stream",
          "name": "stdout",
          "text": [
            "NaNs en HOGAR_KEY: REGION_4               0\n",
            "AREA                   0\n",
            "HOGTE01                0\n",
            "HOGHD01                0\n",
            "HOGCE28                0\n",
            "HOGCE11                0\n",
            "HOGPR01_CON_RRAA       0\n",
            "HOGAR_KEY              0\n",
            "VIVDV07                0\n",
            "MATERIALIDAD           0\n",
            "PERID               4379\n",
            "PERNA01_TRAMO       4379\n",
            "NIVELEDU            4379\n",
            "dtype: int64\n"
          ]
        }
      ],
      "source": [
        "# --- Analizamos los nulos en el dataframe extendido ---\n",
        "print(\"NaNs en HOGAR_KEY:\", df_extendido.isnull().sum())"
      ]
    },
    {
      "cell_type": "code",
      "execution_count": null,
      "metadata": {
        "colab": {
          "base_uri": "https://localhost:8080/"
        },
        "id": "_yLUmClbmMMs",
        "outputId": "a63892c7-bc79-492e-cc66-c97e6e7b2c00"
      },
      "outputs": [
        {
          "output_type": "stream",
          "name": "stdout",
          "text": [
            "<class 'pandas.core.frame.DataFrame'>\n",
            "Index: 1250825 entries, 0 to 1255202\n",
            "Data columns (total 13 columns):\n",
            " #   Column            Non-Null Count    Dtype \n",
            "---  ------            --------------    ----- \n",
            " 0   REGION_4          1250825 non-null  int64 \n",
            " 1   AREA              1250825 non-null  int64 \n",
            " 2   HOGTE01           1250825 non-null  int64 \n",
            " 3   HOGHD01           1250825 non-null  int64 \n",
            " 4   HOGCE28           1250825 non-null  int64 \n",
            " 5   HOGCE11           1250825 non-null  int64 \n",
            " 6   HOGPR01_CON_RRAA  1250825 non-null  int64 \n",
            " 7   HOGAR_KEY         1250825 non-null  object\n",
            " 8   VIVDV07           1250825 non-null  int64 \n",
            " 9   MATERIALIDAD      1250825 non-null  object\n",
            " 10  PERID             1250825 non-null  Int64 \n",
            " 11  PERNA01_TRAMO     1250825 non-null  object\n",
            " 12  NIVELEDU          1250825 non-null  Int64 \n",
            "dtypes: Int64(2), int64(8), object(3)\n",
            "memory usage: 136.0+ MB\n"
          ]
        }
      ],
      "source": [
        "# --- Vamos a eliminar los hogares sin jefe ya que son hogares colectivos y no entran en el análisis ---\n",
        "df_extendido = df_extendido.dropna()\n",
        "df_extendido.info()"
      ]
    },
    {
      "cell_type": "code",
      "execution_count": null,
      "metadata": {
        "colab": {
          "base_uri": "https://localhost:8080/",
          "height": 491
        },
        "id": "oMbhunhhmMMs",
        "outputId": "18e2650c-1a8c-46d1-d318-962f0ceed0ca"
      },
      "outputs": [
        {
          "output_type": "execute_result",
          "data": {
            "text/plain": [
              "REGION_4                  4\n",
              "AREA                      2\n",
              "HOGTE01                   6\n",
              "HOGHD01                  21\n",
              "HOGCE28                   4\n",
              "HOGCE11                   4\n",
              "HOGPR01_CON_RRAA         25\n",
              "HOGAR_KEY           1250825\n",
              "VIVDV07                   8\n",
              "MATERIALIDAD             12\n",
              "PERID                    20\n",
              "PERNA01_TRAMO            17\n",
              "NIVELEDU                 12\n",
              "dtype: int64"
            ],
            "text/html": [
              "<div>\n",
              "<style scoped>\n",
              "    .dataframe tbody tr th:only-of-type {\n",
              "        vertical-align: middle;\n",
              "    }\n",
              "\n",
              "    .dataframe tbody tr th {\n",
              "        vertical-align: top;\n",
              "    }\n",
              "\n",
              "    .dataframe thead th {\n",
              "        text-align: right;\n",
              "    }\n",
              "</style>\n",
              "<table border=\"1\" class=\"dataframe\">\n",
              "  <thead>\n",
              "    <tr style=\"text-align: right;\">\n",
              "      <th></th>\n",
              "      <th>0</th>\n",
              "    </tr>\n",
              "  </thead>\n",
              "  <tbody>\n",
              "    <tr>\n",
              "      <th>REGION_4</th>\n",
              "      <td>4</td>\n",
              "    </tr>\n",
              "    <tr>\n",
              "      <th>AREA</th>\n",
              "      <td>2</td>\n",
              "    </tr>\n",
              "    <tr>\n",
              "      <th>HOGTE01</th>\n",
              "      <td>6</td>\n",
              "    </tr>\n",
              "    <tr>\n",
              "      <th>HOGHD01</th>\n",
              "      <td>21</td>\n",
              "    </tr>\n",
              "    <tr>\n",
              "      <th>HOGCE28</th>\n",
              "      <td>4</td>\n",
              "    </tr>\n",
              "    <tr>\n",
              "      <th>HOGCE11</th>\n",
              "      <td>4</td>\n",
              "    </tr>\n",
              "    <tr>\n",
              "      <th>HOGPR01_CON_RRAA</th>\n",
              "      <td>25</td>\n",
              "    </tr>\n",
              "    <tr>\n",
              "      <th>HOGAR_KEY</th>\n",
              "      <td>1250825</td>\n",
              "    </tr>\n",
              "    <tr>\n",
              "      <th>VIVDV07</th>\n",
              "      <td>8</td>\n",
              "    </tr>\n",
              "    <tr>\n",
              "      <th>MATERIALIDAD</th>\n",
              "      <td>12</td>\n",
              "    </tr>\n",
              "    <tr>\n",
              "      <th>PERID</th>\n",
              "      <td>20</td>\n",
              "    </tr>\n",
              "    <tr>\n",
              "      <th>PERNA01_TRAMO</th>\n",
              "      <td>17</td>\n",
              "    </tr>\n",
              "    <tr>\n",
              "      <th>NIVELEDU</th>\n",
              "      <td>12</td>\n",
              "    </tr>\n",
              "  </tbody>\n",
              "</table>\n",
              "</div><br><label><b>dtype:</b> int64</label>"
            ]
          },
          "metadata": {},
          "execution_count": 75
        }
      ],
      "source": [
        "# --- Analizamos los valores únicos de cada columna ---\n",
        "df_extendido.nunique()"
      ]
    },
    {
      "cell_type": "code",
      "execution_count": null,
      "metadata": {
        "colab": {
          "base_uri": "https://localhost:8080/",
          "height": 241
        },
        "id": "1IdnMWd0mMMs",
        "outputId": "e252718d-007f-41b3-8c45-93a03ecfc541"
      },
      "outputs": [
        {
          "output_type": "execute_result",
          "data": {
            "text/plain": [
              "REGION_4\n",
              "2    589356\n",
              "1    485013\n",
              "3    123680\n",
              "4     52776\n",
              "Name: count, dtype: int64"
            ],
            "text/html": [
              "<div>\n",
              "<style scoped>\n",
              "    .dataframe tbody tr th:only-of-type {\n",
              "        vertical-align: middle;\n",
              "    }\n",
              "\n",
              "    .dataframe tbody tr th {\n",
              "        vertical-align: top;\n",
              "    }\n",
              "\n",
              "    .dataframe thead th {\n",
              "        text-align: right;\n",
              "    }\n",
              "</style>\n",
              "<table border=\"1\" class=\"dataframe\">\n",
              "  <thead>\n",
              "    <tr style=\"text-align: right;\">\n",
              "      <th></th>\n",
              "      <th>count</th>\n",
              "    </tr>\n",
              "    <tr>\n",
              "      <th>REGION_4</th>\n",
              "      <th></th>\n",
              "    </tr>\n",
              "  </thead>\n",
              "  <tbody>\n",
              "    <tr>\n",
              "      <th>2</th>\n",
              "      <td>589356</td>\n",
              "    </tr>\n",
              "    <tr>\n",
              "      <th>1</th>\n",
              "      <td>485013</td>\n",
              "    </tr>\n",
              "    <tr>\n",
              "      <th>3</th>\n",
              "      <td>123680</td>\n",
              "    </tr>\n",
              "    <tr>\n",
              "      <th>4</th>\n",
              "      <td>52776</td>\n",
              "    </tr>\n",
              "  </tbody>\n",
              "</table>\n",
              "</div><br><label><b>dtype:</b> int64</label>"
            ]
          },
          "metadata": {},
          "execution_count": 76
        }
      ],
      "source": [
        "df_extendido.REGION_4.value_counts()"
      ]
    },
    {
      "cell_type": "code",
      "execution_count": null,
      "metadata": {
        "colab": {
          "base_uri": "https://localhost:8080/",
          "height": 178
        },
        "id": "7N38fLpOmMMs",
        "outputId": "cd9ff4a1-4c9d-45e3-920a-2477fa535656"
      },
      "outputs": [
        {
          "output_type": "execute_result",
          "data": {
            "text/plain": [
              "AREA\n",
              "1    1198049\n",
              "2      52776\n",
              "Name: count, dtype: int64"
            ],
            "text/html": [
              "<div>\n",
              "<style scoped>\n",
              "    .dataframe tbody tr th:only-of-type {\n",
              "        vertical-align: middle;\n",
              "    }\n",
              "\n",
              "    .dataframe tbody tr th {\n",
              "        vertical-align: top;\n",
              "    }\n",
              "\n",
              "    .dataframe thead th {\n",
              "        text-align: right;\n",
              "    }\n",
              "</style>\n",
              "<table border=\"1\" class=\"dataframe\">\n",
              "  <thead>\n",
              "    <tr style=\"text-align: right;\">\n",
              "      <th></th>\n",
              "      <th>count</th>\n",
              "    </tr>\n",
              "    <tr>\n",
              "      <th>AREA</th>\n",
              "      <th></th>\n",
              "    </tr>\n",
              "  </thead>\n",
              "  <tbody>\n",
              "    <tr>\n",
              "      <th>1</th>\n",
              "      <td>1198049</td>\n",
              "    </tr>\n",
              "    <tr>\n",
              "      <th>2</th>\n",
              "      <td>52776</td>\n",
              "    </tr>\n",
              "  </tbody>\n",
              "</table>\n",
              "</div><br><label><b>dtype:</b> int64</label>"
            ]
          },
          "metadata": {},
          "execution_count": 77
        }
      ],
      "source": [
        "df_extendido.AREA.value_counts()"
      ]
    },
    {
      "cell_type": "code",
      "execution_count": null,
      "metadata": {
        "colab": {
          "base_uri": "https://localhost:8080/",
          "height": 303
        },
        "id": "dmS4weO-mMMt",
        "outputId": "055c66ed-bddf-4b14-b606-3217ee2fe7a2"
      },
      "outputs": [
        {
          "output_type": "execute_result",
          "data": {
            "text/plain": [
              "HOGTE01\n",
              "1       716354\n",
              "3       318538\n",
              "4       145764\n",
              "2        64659\n",
              "8888      5506\n",
              "9898         4\n",
              "Name: count, dtype: int64"
            ],
            "text/html": [
              "<div>\n",
              "<style scoped>\n",
              "    .dataframe tbody tr th:only-of-type {\n",
              "        vertical-align: middle;\n",
              "    }\n",
              "\n",
              "    .dataframe tbody tr th {\n",
              "        vertical-align: top;\n",
              "    }\n",
              "\n",
              "    .dataframe thead th {\n",
              "        text-align: right;\n",
              "    }\n",
              "</style>\n",
              "<table border=\"1\" class=\"dataframe\">\n",
              "  <thead>\n",
              "    <tr style=\"text-align: right;\">\n",
              "      <th></th>\n",
              "      <th>count</th>\n",
              "    </tr>\n",
              "    <tr>\n",
              "      <th>HOGTE01</th>\n",
              "      <th></th>\n",
              "    </tr>\n",
              "  </thead>\n",
              "  <tbody>\n",
              "    <tr>\n",
              "      <th>1</th>\n",
              "      <td>716354</td>\n",
              "    </tr>\n",
              "    <tr>\n",
              "      <th>3</th>\n",
              "      <td>318538</td>\n",
              "    </tr>\n",
              "    <tr>\n",
              "      <th>4</th>\n",
              "      <td>145764</td>\n",
              "    </tr>\n",
              "    <tr>\n",
              "      <th>2</th>\n",
              "      <td>64659</td>\n",
              "    </tr>\n",
              "    <tr>\n",
              "      <th>8888</th>\n",
              "      <td>5506</td>\n",
              "    </tr>\n",
              "    <tr>\n",
              "      <th>9898</th>\n",
              "      <td>4</td>\n",
              "    </tr>\n",
              "  </tbody>\n",
              "</table>\n",
              "</div><br><label><b>dtype:</b> int64</label>"
            ]
          },
          "metadata": {},
          "execution_count": 78
        }
      ],
      "source": [
        "df_extendido.HOGTE01.value_counts()"
      ]
    },
    {
      "cell_type": "code",
      "execution_count": null,
      "metadata": {
        "colab": {
          "base_uri": "https://localhost:8080/",
          "height": 774
        },
        "id": "b0tPd1S1mMMt",
        "outputId": "1d3e570a-d52b-4120-c448-2f6fbc0a5eaf"
      },
      "outputs": [
        {
          "output_type": "execute_result",
          "data": {
            "text/plain": [
              "HOGHD01\n",
              "2       529434\n",
              "1       447416\n",
              "3       228544\n",
              "4        34075\n",
              "8888      5506\n",
              "5         4591\n",
              "6          821\n",
              "7          224\n",
              "8          108\n",
              "9           46\n",
              "10          24\n",
              "9898        14\n",
              "11           7\n",
              "12           4\n",
              "19           2\n",
              "14           2\n",
              "18           2\n",
              "15           2\n",
              "32           1\n",
              "20           1\n",
              "39           1\n",
              "Name: count, dtype: int64"
            ],
            "text/html": [
              "<div>\n",
              "<style scoped>\n",
              "    .dataframe tbody tr th:only-of-type {\n",
              "        vertical-align: middle;\n",
              "    }\n",
              "\n",
              "    .dataframe tbody tr th {\n",
              "        vertical-align: top;\n",
              "    }\n",
              "\n",
              "    .dataframe thead th {\n",
              "        text-align: right;\n",
              "    }\n",
              "</style>\n",
              "<table border=\"1\" class=\"dataframe\">\n",
              "  <thead>\n",
              "    <tr style=\"text-align: right;\">\n",
              "      <th></th>\n",
              "      <th>count</th>\n",
              "    </tr>\n",
              "    <tr>\n",
              "      <th>HOGHD01</th>\n",
              "      <th></th>\n",
              "    </tr>\n",
              "  </thead>\n",
              "  <tbody>\n",
              "    <tr>\n",
              "      <th>2</th>\n",
              "      <td>529434</td>\n",
              "    </tr>\n",
              "    <tr>\n",
              "      <th>1</th>\n",
              "      <td>447416</td>\n",
              "    </tr>\n",
              "    <tr>\n",
              "      <th>3</th>\n",
              "      <td>228544</td>\n",
              "    </tr>\n",
              "    <tr>\n",
              "      <th>4</th>\n",
              "      <td>34075</td>\n",
              "    </tr>\n",
              "    <tr>\n",
              "      <th>8888</th>\n",
              "      <td>5506</td>\n",
              "    </tr>\n",
              "    <tr>\n",
              "      <th>5</th>\n",
              "      <td>4591</td>\n",
              "    </tr>\n",
              "    <tr>\n",
              "      <th>6</th>\n",
              "      <td>821</td>\n",
              "    </tr>\n",
              "    <tr>\n",
              "      <th>7</th>\n",
              "      <td>224</td>\n",
              "    </tr>\n",
              "    <tr>\n",
              "      <th>8</th>\n",
              "      <td>108</td>\n",
              "    </tr>\n",
              "    <tr>\n",
              "      <th>9</th>\n",
              "      <td>46</td>\n",
              "    </tr>\n",
              "    <tr>\n",
              "      <th>10</th>\n",
              "      <td>24</td>\n",
              "    </tr>\n",
              "    <tr>\n",
              "      <th>9898</th>\n",
              "      <td>14</td>\n",
              "    </tr>\n",
              "    <tr>\n",
              "      <th>11</th>\n",
              "      <td>7</td>\n",
              "    </tr>\n",
              "    <tr>\n",
              "      <th>12</th>\n",
              "      <td>4</td>\n",
              "    </tr>\n",
              "    <tr>\n",
              "      <th>19</th>\n",
              "      <td>2</td>\n",
              "    </tr>\n",
              "    <tr>\n",
              "      <th>14</th>\n",
              "      <td>2</td>\n",
              "    </tr>\n",
              "    <tr>\n",
              "      <th>18</th>\n",
              "      <td>2</td>\n",
              "    </tr>\n",
              "    <tr>\n",
              "      <th>15</th>\n",
              "      <td>2</td>\n",
              "    </tr>\n",
              "    <tr>\n",
              "      <th>32</th>\n",
              "      <td>1</td>\n",
              "    </tr>\n",
              "    <tr>\n",
              "      <th>20</th>\n",
              "      <td>1</td>\n",
              "    </tr>\n",
              "    <tr>\n",
              "      <th>39</th>\n",
              "      <td>1</td>\n",
              "    </tr>\n",
              "  </tbody>\n",
              "</table>\n",
              "</div><br><label><b>dtype:</b> int64</label>"
            ]
          },
          "metadata": {},
          "execution_count": 79
        }
      ],
      "source": [
        "df_extendido.HOGHD01.value_counts()"
      ]
    },
    {
      "cell_type": "code",
      "execution_count": null,
      "metadata": {
        "colab": {
          "base_uri": "https://localhost:8080/",
          "height": 241
        },
        "id": "4zWMn60BmMMt",
        "outputId": "16fbb2b7-06b3-40ed-c213-ec9e14cebf46"
      },
      "outputs": [
        {
          "output_type": "execute_result",
          "data": {
            "text/plain": [
              "HOGCE28\n",
              "1       729579\n",
              "2       515728\n",
              "8888      5506\n",
              "9898        12\n",
              "Name: count, dtype: int64"
            ],
            "text/html": [
              "<div>\n",
              "<style scoped>\n",
              "    .dataframe tbody tr th:only-of-type {\n",
              "        vertical-align: middle;\n",
              "    }\n",
              "\n",
              "    .dataframe tbody tr th {\n",
              "        vertical-align: top;\n",
              "    }\n",
              "\n",
              "    .dataframe thead th {\n",
              "        text-align: right;\n",
              "    }\n",
              "</style>\n",
              "<table border=\"1\" class=\"dataframe\">\n",
              "  <thead>\n",
              "    <tr style=\"text-align: right;\">\n",
              "      <th></th>\n",
              "      <th>count</th>\n",
              "    </tr>\n",
              "    <tr>\n",
              "      <th>HOGCE28</th>\n",
              "      <th></th>\n",
              "    </tr>\n",
              "  </thead>\n",
              "  <tbody>\n",
              "    <tr>\n",
              "      <th>1</th>\n",
              "      <td>729579</td>\n",
              "    </tr>\n",
              "    <tr>\n",
              "      <th>2</th>\n",
              "      <td>515728</td>\n",
              "    </tr>\n",
              "    <tr>\n",
              "      <th>8888</th>\n",
              "      <td>5506</td>\n",
              "    </tr>\n",
              "    <tr>\n",
              "      <th>9898</th>\n",
              "      <td>12</td>\n",
              "    </tr>\n",
              "  </tbody>\n",
              "</table>\n",
              "</div><br><label><b>dtype:</b> int64</label>"
            ]
          },
          "metadata": {},
          "execution_count": 80
        }
      ],
      "source": [
        "df_extendido.HOGCE28.value_counts()"
      ]
    },
    {
      "cell_type": "code",
      "execution_count": null,
      "metadata": {
        "colab": {
          "base_uri": "https://localhost:8080/",
          "height": 241
        },
        "id": "5QSmzNRdmMMt",
        "outputId": "a137fc38-c6d8-427c-a912-148ce1fb2b2a"
      },
      "outputs": [
        {
          "output_type": "execute_result",
          "data": {
            "text/plain": [
              "HOGCE11\n",
              "1       973807\n",
              "2       271500\n",
              "8888      5506\n",
              "9898        12\n",
              "Name: count, dtype: int64"
            ],
            "text/html": [
              "<div>\n",
              "<style scoped>\n",
              "    .dataframe tbody tr th:only-of-type {\n",
              "        vertical-align: middle;\n",
              "    }\n",
              "\n",
              "    .dataframe tbody tr th {\n",
              "        vertical-align: top;\n",
              "    }\n",
              "\n",
              "    .dataframe thead th {\n",
              "        text-align: right;\n",
              "    }\n",
              "</style>\n",
              "<table border=\"1\" class=\"dataframe\">\n",
              "  <thead>\n",
              "    <tr style=\"text-align: right;\">\n",
              "      <th></th>\n",
              "      <th>count</th>\n",
              "    </tr>\n",
              "    <tr>\n",
              "      <th>HOGCE11</th>\n",
              "      <th></th>\n",
              "    </tr>\n",
              "  </thead>\n",
              "  <tbody>\n",
              "    <tr>\n",
              "      <th>1</th>\n",
              "      <td>973807</td>\n",
              "    </tr>\n",
              "    <tr>\n",
              "      <th>2</th>\n",
              "      <td>271500</td>\n",
              "    </tr>\n",
              "    <tr>\n",
              "      <th>8888</th>\n",
              "      <td>5506</td>\n",
              "    </tr>\n",
              "    <tr>\n",
              "      <th>9898</th>\n",
              "      <td>12</td>\n",
              "    </tr>\n",
              "  </tbody>\n",
              "</table>\n",
              "</div><br><label><b>dtype:</b> int64</label>"
            ]
          },
          "metadata": {},
          "execution_count": 81
        }
      ],
      "source": [
        "df_extendido.HOGCE11.value_counts()"
      ]
    },
    {
      "cell_type": "code",
      "execution_count": null,
      "metadata": {
        "colab": {
          "base_uri": "https://localhost:8080/",
          "height": 899
        },
        "id": "qygzovRAmMMt",
        "outputId": "e6e92116-011c-4ded-f344-bec5689ff79e"
      },
      "outputs": [
        {
          "output_type": "execute_result",
          "data": {
            "text/plain": [
              "HOGPR01_CON_RRAA\n",
              "2     366646\n",
              "1     364971\n",
              "3     245081\n",
              "4     171988\n",
              "5      64744\n",
              "6      22662\n",
              "7       8475\n",
              "8       3427\n",
              "9       1477\n",
              "10       651\n",
              "11       320\n",
              "12       173\n",
              "13        82\n",
              "14        46\n",
              "15        27\n",
              "16        21\n",
              "17         8\n",
              "18         7\n",
              "19         7\n",
              "20         4\n",
              "23         3\n",
              "21         2\n",
              "22         1\n",
              "27         1\n",
              "44         1\n",
              "Name: count, dtype: int64"
            ],
            "text/html": [
              "<div>\n",
              "<style scoped>\n",
              "    .dataframe tbody tr th:only-of-type {\n",
              "        vertical-align: middle;\n",
              "    }\n",
              "\n",
              "    .dataframe tbody tr th {\n",
              "        vertical-align: top;\n",
              "    }\n",
              "\n",
              "    .dataframe thead th {\n",
              "        text-align: right;\n",
              "    }\n",
              "</style>\n",
              "<table border=\"1\" class=\"dataframe\">\n",
              "  <thead>\n",
              "    <tr style=\"text-align: right;\">\n",
              "      <th></th>\n",
              "      <th>count</th>\n",
              "    </tr>\n",
              "    <tr>\n",
              "      <th>HOGPR01_CON_RRAA</th>\n",
              "      <th></th>\n",
              "    </tr>\n",
              "  </thead>\n",
              "  <tbody>\n",
              "    <tr>\n",
              "      <th>2</th>\n",
              "      <td>366646</td>\n",
              "    </tr>\n",
              "    <tr>\n",
              "      <th>1</th>\n",
              "      <td>364971</td>\n",
              "    </tr>\n",
              "    <tr>\n",
              "      <th>3</th>\n",
              "      <td>245081</td>\n",
              "    </tr>\n",
              "    <tr>\n",
              "      <th>4</th>\n",
              "      <td>171988</td>\n",
              "    </tr>\n",
              "    <tr>\n",
              "      <th>5</th>\n",
              "      <td>64744</td>\n",
              "    </tr>\n",
              "    <tr>\n",
              "      <th>6</th>\n",
              "      <td>22662</td>\n",
              "    </tr>\n",
              "    <tr>\n",
              "      <th>7</th>\n",
              "      <td>8475</td>\n",
              "    </tr>\n",
              "    <tr>\n",
              "      <th>8</th>\n",
              "      <td>3427</td>\n",
              "    </tr>\n",
              "    <tr>\n",
              "      <th>9</th>\n",
              "      <td>1477</td>\n",
              "    </tr>\n",
              "    <tr>\n",
              "      <th>10</th>\n",
              "      <td>651</td>\n",
              "    </tr>\n",
              "    <tr>\n",
              "      <th>11</th>\n",
              "      <td>320</td>\n",
              "    </tr>\n",
              "    <tr>\n",
              "      <th>12</th>\n",
              "      <td>173</td>\n",
              "    </tr>\n",
              "    <tr>\n",
              "      <th>13</th>\n",
              "      <td>82</td>\n",
              "    </tr>\n",
              "    <tr>\n",
              "      <th>14</th>\n",
              "      <td>46</td>\n",
              "    </tr>\n",
              "    <tr>\n",
              "      <th>15</th>\n",
              "      <td>27</td>\n",
              "    </tr>\n",
              "    <tr>\n",
              "      <th>16</th>\n",
              "      <td>21</td>\n",
              "    </tr>\n",
              "    <tr>\n",
              "      <th>17</th>\n",
              "      <td>8</td>\n",
              "    </tr>\n",
              "    <tr>\n",
              "      <th>18</th>\n",
              "      <td>7</td>\n",
              "    </tr>\n",
              "    <tr>\n",
              "      <th>19</th>\n",
              "      <td>7</td>\n",
              "    </tr>\n",
              "    <tr>\n",
              "      <th>20</th>\n",
              "      <td>4</td>\n",
              "    </tr>\n",
              "    <tr>\n",
              "      <th>23</th>\n",
              "      <td>3</td>\n",
              "    </tr>\n",
              "    <tr>\n",
              "      <th>21</th>\n",
              "      <td>2</td>\n",
              "    </tr>\n",
              "    <tr>\n",
              "      <th>22</th>\n",
              "      <td>1</td>\n",
              "    </tr>\n",
              "    <tr>\n",
              "      <th>27</th>\n",
              "      <td>1</td>\n",
              "    </tr>\n",
              "    <tr>\n",
              "      <th>44</th>\n",
              "      <td>1</td>\n",
              "    </tr>\n",
              "  </tbody>\n",
              "</table>\n",
              "</div><br><label><b>dtype:</b> int64</label>"
            ]
          },
          "metadata": {},
          "execution_count": 82
        }
      ],
      "source": [
        "df_extendido.HOGPR01_CON_RRAA.value_counts()"
      ]
    },
    {
      "cell_type": "code",
      "execution_count": null,
      "metadata": {
        "colab": {
          "base_uri": "https://localhost:8080/",
          "height": 366
        },
        "id": "ZNK3sKMBmMMt",
        "outputId": "cf0e57b4-b178-4776-d215-7f3145d5b6fe"
      },
      "outputs": [
        {
          "output_type": "execute_result",
          "data": {
            "text/plain": [
              "VIVDV07\n",
              "1       1236255\n",
              "8888       5506\n",
              "6          4092\n",
              "5          2294\n",
              "3          1755\n",
              "4           380\n",
              "9898        289\n",
              "2           254\n",
              "Name: count, dtype: int64"
            ],
            "text/html": [
              "<div>\n",
              "<style scoped>\n",
              "    .dataframe tbody tr th:only-of-type {\n",
              "        vertical-align: middle;\n",
              "    }\n",
              "\n",
              "    .dataframe tbody tr th {\n",
              "        vertical-align: top;\n",
              "    }\n",
              "\n",
              "    .dataframe thead th {\n",
              "        text-align: right;\n",
              "    }\n",
              "</style>\n",
              "<table border=\"1\" class=\"dataframe\">\n",
              "  <thead>\n",
              "    <tr style=\"text-align: right;\">\n",
              "      <th></th>\n",
              "      <th>count</th>\n",
              "    </tr>\n",
              "    <tr>\n",
              "      <th>VIVDV07</th>\n",
              "      <th></th>\n",
              "    </tr>\n",
              "  </thead>\n",
              "  <tbody>\n",
              "    <tr>\n",
              "      <th>1</th>\n",
              "      <td>1236255</td>\n",
              "    </tr>\n",
              "    <tr>\n",
              "      <th>8888</th>\n",
              "      <td>5506</td>\n",
              "    </tr>\n",
              "    <tr>\n",
              "      <th>6</th>\n",
              "      <td>4092</td>\n",
              "    </tr>\n",
              "    <tr>\n",
              "      <th>5</th>\n",
              "      <td>2294</td>\n",
              "    </tr>\n",
              "    <tr>\n",
              "      <th>3</th>\n",
              "      <td>1755</td>\n",
              "    </tr>\n",
              "    <tr>\n",
              "      <th>4</th>\n",
              "      <td>380</td>\n",
              "    </tr>\n",
              "    <tr>\n",
              "      <th>9898</th>\n",
              "      <td>289</td>\n",
              "    </tr>\n",
              "    <tr>\n",
              "      <th>2</th>\n",
              "      <td>254</td>\n",
              "    </tr>\n",
              "  </tbody>\n",
              "</table>\n",
              "</div><br><label><b>dtype:</b> int64</label>"
            ]
          },
          "metadata": {},
          "execution_count": 83
        }
      ],
      "source": [
        "df_extendido.VIVDV07.value_counts()"
      ]
    },
    {
      "cell_type": "code",
      "execution_count": null,
      "metadata": {
        "colab": {
          "base_uri": "https://localhost:8080/",
          "height": 491
        },
        "id": "_iPt9vynmMMu",
        "outputId": "212390c8-2b6d-4e4b-f1e8-2133316bfff2"
      },
      "outputs": [
        {
          "output_type": "execute_result",
          "data": {
            "text/plain": [
              "MATERIALIDAD\n",
              "Materiales pesados en paredes y techos y piso resistente             709138\n",
              "Materiales pesados en paredes, techo liviano y piso resistente       436569\n",
              "Otras combinaciones de materiales                                     48756\n",
              "Materiales livianos en paredes y techos y piso resistente             45669\n",
              "8888                                                                   5506\n",
              "Materiales livianos en paredes y techos y piso no resistente           1491\n",
              "Materiales de desecho en paredes o techos                              1419\n",
              "Paredes de barro o adobe, techo liviano y piso resistente              1405\n",
              "Materiales pesados en paredes, techo liviano y piso no resistente       691\n",
              "Materiales pesados en paredes y techos y piso no resistente             103\n",
              "9898                                                                     39\n",
              "Paredes de barro o adobe, techo liviano y piso no resistente             39\n",
              "Name: count, dtype: int64"
            ],
            "text/html": [
              "<div>\n",
              "<style scoped>\n",
              "    .dataframe tbody tr th:only-of-type {\n",
              "        vertical-align: middle;\n",
              "    }\n",
              "\n",
              "    .dataframe tbody tr th {\n",
              "        vertical-align: top;\n",
              "    }\n",
              "\n",
              "    .dataframe thead th {\n",
              "        text-align: right;\n",
              "    }\n",
              "</style>\n",
              "<table border=\"1\" class=\"dataframe\">\n",
              "  <thead>\n",
              "    <tr style=\"text-align: right;\">\n",
              "      <th></th>\n",
              "      <th>count</th>\n",
              "    </tr>\n",
              "    <tr>\n",
              "      <th>MATERIALIDAD</th>\n",
              "      <th></th>\n",
              "    </tr>\n",
              "  </thead>\n",
              "  <tbody>\n",
              "    <tr>\n",
              "      <th>Materiales pesados en paredes y techos y piso resistente</th>\n",
              "      <td>709138</td>\n",
              "    </tr>\n",
              "    <tr>\n",
              "      <th>Materiales pesados en paredes, techo liviano y piso resistente</th>\n",
              "      <td>436569</td>\n",
              "    </tr>\n",
              "    <tr>\n",
              "      <th>Otras combinaciones de materiales</th>\n",
              "      <td>48756</td>\n",
              "    </tr>\n",
              "    <tr>\n",
              "      <th>Materiales livianos en paredes y techos y piso resistente</th>\n",
              "      <td>45669</td>\n",
              "    </tr>\n",
              "    <tr>\n",
              "      <th>8888</th>\n",
              "      <td>5506</td>\n",
              "    </tr>\n",
              "    <tr>\n",
              "      <th>Materiales livianos en paredes y techos y piso no resistente</th>\n",
              "      <td>1491</td>\n",
              "    </tr>\n",
              "    <tr>\n",
              "      <th>Materiales de desecho en paredes o techos</th>\n",
              "      <td>1419</td>\n",
              "    </tr>\n",
              "    <tr>\n",
              "      <th>Paredes de barro o adobe, techo liviano y piso resistente</th>\n",
              "      <td>1405</td>\n",
              "    </tr>\n",
              "    <tr>\n",
              "      <th>Materiales pesados en paredes, techo liviano y piso no resistente</th>\n",
              "      <td>691</td>\n",
              "    </tr>\n",
              "    <tr>\n",
              "      <th>Materiales pesados en paredes y techos y piso no resistente</th>\n",
              "      <td>103</td>\n",
              "    </tr>\n",
              "    <tr>\n",
              "      <th>9898</th>\n",
              "      <td>39</td>\n",
              "    </tr>\n",
              "    <tr>\n",
              "      <th>Paredes de barro o adobe, techo liviano y piso no resistente</th>\n",
              "      <td>39</td>\n",
              "    </tr>\n",
              "  </tbody>\n",
              "</table>\n",
              "</div><br><label><b>dtype:</b> int64</label>"
            ]
          },
          "metadata": {},
          "execution_count": 84
        }
      ],
      "source": [
        "df_extendido.MATERIALIDAD.value_counts()"
      ]
    },
    {
      "cell_type": "code",
      "execution_count": null,
      "metadata": {
        "colab": {
          "base_uri": "https://localhost:8080/",
          "height": 648
        },
        "id": "asnqxPQmmMMu",
        "outputId": "b18fb0dc-ff5d-4d99-9d21-3b8e56cbaeef"
      },
      "outputs": [
        {
          "output_type": "execute_result",
          "data": {
            "text/plain": [
              "PERNA01_TRAMO\n",
              "45-49    122912\n",
              "40-44    117780\n",
              "50-54    114752\n",
              "35-39    113291\n",
              "60-64    112931\n",
              "55-59    109883\n",
              "30-34    104296\n",
              "65-69    102041\n",
              "70-74     83304\n",
              "80+       81070\n",
              "25-29     79907\n",
              "75-79     65478\n",
              "20-24     36575\n",
              "15-19      5464\n",
              "10-14       544\n",
              "0-04        350\n",
              "05-09       247\n",
              "Name: count, dtype: int64"
            ],
            "text/html": [
              "<div>\n",
              "<style scoped>\n",
              "    .dataframe tbody tr th:only-of-type {\n",
              "        vertical-align: middle;\n",
              "    }\n",
              "\n",
              "    .dataframe tbody tr th {\n",
              "        vertical-align: top;\n",
              "    }\n",
              "\n",
              "    .dataframe thead th {\n",
              "        text-align: right;\n",
              "    }\n",
              "</style>\n",
              "<table border=\"1\" class=\"dataframe\">\n",
              "  <thead>\n",
              "    <tr style=\"text-align: right;\">\n",
              "      <th></th>\n",
              "      <th>count</th>\n",
              "    </tr>\n",
              "    <tr>\n",
              "      <th>PERNA01_TRAMO</th>\n",
              "      <th></th>\n",
              "    </tr>\n",
              "  </thead>\n",
              "  <tbody>\n",
              "    <tr>\n",
              "      <th>45-49</th>\n",
              "      <td>122912</td>\n",
              "    </tr>\n",
              "    <tr>\n",
              "      <th>40-44</th>\n",
              "      <td>117780</td>\n",
              "    </tr>\n",
              "    <tr>\n",
              "      <th>50-54</th>\n",
              "      <td>114752</td>\n",
              "    </tr>\n",
              "    <tr>\n",
              "      <th>35-39</th>\n",
              "      <td>113291</td>\n",
              "    </tr>\n",
              "    <tr>\n",
              "      <th>60-64</th>\n",
              "      <td>112931</td>\n",
              "    </tr>\n",
              "    <tr>\n",
              "      <th>55-59</th>\n",
              "      <td>109883</td>\n",
              "    </tr>\n",
              "    <tr>\n",
              "      <th>30-34</th>\n",
              "      <td>104296</td>\n",
              "    </tr>\n",
              "    <tr>\n",
              "      <th>65-69</th>\n",
              "      <td>102041</td>\n",
              "    </tr>\n",
              "    <tr>\n",
              "      <th>70-74</th>\n",
              "      <td>83304</td>\n",
              "    </tr>\n",
              "    <tr>\n",
              "      <th>80+</th>\n",
              "      <td>81070</td>\n",
              "    </tr>\n",
              "    <tr>\n",
              "      <th>25-29</th>\n",
              "      <td>79907</td>\n",
              "    </tr>\n",
              "    <tr>\n",
              "      <th>75-79</th>\n",
              "      <td>65478</td>\n",
              "    </tr>\n",
              "    <tr>\n",
              "      <th>20-24</th>\n",
              "      <td>36575</td>\n",
              "    </tr>\n",
              "    <tr>\n",
              "      <th>15-19</th>\n",
              "      <td>5464</td>\n",
              "    </tr>\n",
              "    <tr>\n",
              "      <th>10-14</th>\n",
              "      <td>544</td>\n",
              "    </tr>\n",
              "    <tr>\n",
              "      <th>0-04</th>\n",
              "      <td>350</td>\n",
              "    </tr>\n",
              "    <tr>\n",
              "      <th>05-09</th>\n",
              "      <td>247</td>\n",
              "    </tr>\n",
              "  </tbody>\n",
              "</table>\n",
              "</div><br><label><b>dtype:</b> int64</label>"
            ]
          },
          "metadata": {},
          "execution_count": 85
        }
      ],
      "source": [
        "df_extendido.PERNA01_TRAMO.value_counts()"
      ]
    },
    {
      "cell_type": "code",
      "execution_count": null,
      "metadata": {
        "colab": {
          "base_uri": "https://localhost:8080/",
          "height": 491
        },
        "id": "2sNE4dZZmMMu",
        "outputId": "6ba31a71-1889-4a3f-a775-c94d8c16dbde"
      },
      "outputs": [
        {
          "output_type": "execute_result",
          "data": {
            "text/plain": [
              "NIVELEDU\n",
              "2       307545\n",
              "4       299821\n",
              "5       242974\n",
              "9       184033\n",
              "8        55269\n",
              "7        49480\n",
              "10       42500\n",
              "12       37513\n",
              "6        20780\n",
              "9898     10523\n",
              "0          303\n",
              "1           84\n",
              "Name: count, dtype: Int64"
            ],
            "text/html": [
              "<div>\n",
              "<style scoped>\n",
              "    .dataframe tbody tr th:only-of-type {\n",
              "        vertical-align: middle;\n",
              "    }\n",
              "\n",
              "    .dataframe tbody tr th {\n",
              "        vertical-align: top;\n",
              "    }\n",
              "\n",
              "    .dataframe thead th {\n",
              "        text-align: right;\n",
              "    }\n",
              "</style>\n",
              "<table border=\"1\" class=\"dataframe\">\n",
              "  <thead>\n",
              "    <tr style=\"text-align: right;\">\n",
              "      <th></th>\n",
              "      <th>count</th>\n",
              "    </tr>\n",
              "    <tr>\n",
              "      <th>NIVELEDU</th>\n",
              "      <th></th>\n",
              "    </tr>\n",
              "  </thead>\n",
              "  <tbody>\n",
              "    <tr>\n",
              "      <th>2</th>\n",
              "      <td>307545</td>\n",
              "    </tr>\n",
              "    <tr>\n",
              "      <th>4</th>\n",
              "      <td>299821</td>\n",
              "    </tr>\n",
              "    <tr>\n",
              "      <th>5</th>\n",
              "      <td>242974</td>\n",
              "    </tr>\n",
              "    <tr>\n",
              "      <th>9</th>\n",
              "      <td>184033</td>\n",
              "    </tr>\n",
              "    <tr>\n",
              "      <th>8</th>\n",
              "      <td>55269</td>\n",
              "    </tr>\n",
              "    <tr>\n",
              "      <th>7</th>\n",
              "      <td>49480</td>\n",
              "    </tr>\n",
              "    <tr>\n",
              "      <th>10</th>\n",
              "      <td>42500</td>\n",
              "    </tr>\n",
              "    <tr>\n",
              "      <th>12</th>\n",
              "      <td>37513</td>\n",
              "    </tr>\n",
              "    <tr>\n",
              "      <th>6</th>\n",
              "      <td>20780</td>\n",
              "    </tr>\n",
              "    <tr>\n",
              "      <th>9898</th>\n",
              "      <td>10523</td>\n",
              "    </tr>\n",
              "    <tr>\n",
              "      <th>0</th>\n",
              "      <td>303</td>\n",
              "    </tr>\n",
              "    <tr>\n",
              "      <th>1</th>\n",
              "      <td>84</td>\n",
              "    </tr>\n",
              "  </tbody>\n",
              "</table>\n",
              "</div><br><label><b>dtype:</b> Int64</label>"
            ]
          },
          "metadata": {},
          "execution_count": 86
        }
      ],
      "source": [
        "df_extendido.NIVELEDU.value_counts()"
      ]
    },
    {
      "cell_type": "code",
      "execution_count": null,
      "metadata": {
        "colab": {
          "base_uri": "https://localhost:8080/",
          "height": 571
        },
        "id": "SmgYB5UOmMMu",
        "outputId": "f425c8bf-9609-4178-ce91-b1bcfc5c889b"
      },
      "outputs": [
        {
          "output_type": "stream",
          "name": "stdout",
          "text": [
            "Se eliminarán 1141 hogares con jefe de hogar de edad 0-14 años.\n"
          ]
        },
        {
          "output_type": "execute_result",
          "data": {
            "text/plain": [
              "PERNA01_TRAMO\n",
              "45-49    122912\n",
              "40-44    117780\n",
              "50-54    114752\n",
              "35-39    113291\n",
              "60-64    112931\n",
              "55-59    109883\n",
              "30-34    104296\n",
              "65-69    102041\n",
              "70-74     83304\n",
              "80+       81070\n",
              "25-29     79907\n",
              "75-79     65478\n",
              "20-24     36575\n",
              "15-19      5464\n",
              "Name: count, dtype: int64"
            ],
            "text/html": [
              "<div>\n",
              "<style scoped>\n",
              "    .dataframe tbody tr th:only-of-type {\n",
              "        vertical-align: middle;\n",
              "    }\n",
              "\n",
              "    .dataframe tbody tr th {\n",
              "        vertical-align: top;\n",
              "    }\n",
              "\n",
              "    .dataframe thead th {\n",
              "        text-align: right;\n",
              "    }\n",
              "</style>\n",
              "<table border=\"1\" class=\"dataframe\">\n",
              "  <thead>\n",
              "    <tr style=\"text-align: right;\">\n",
              "      <th></th>\n",
              "      <th>count</th>\n",
              "    </tr>\n",
              "    <tr>\n",
              "      <th>PERNA01_TRAMO</th>\n",
              "      <th></th>\n",
              "    </tr>\n",
              "  </thead>\n",
              "  <tbody>\n",
              "    <tr>\n",
              "      <th>45-49</th>\n",
              "      <td>122912</td>\n",
              "    </tr>\n",
              "    <tr>\n",
              "      <th>40-44</th>\n",
              "      <td>117780</td>\n",
              "    </tr>\n",
              "    <tr>\n",
              "      <th>50-54</th>\n",
              "      <td>114752</td>\n",
              "    </tr>\n",
              "    <tr>\n",
              "      <th>35-39</th>\n",
              "      <td>113291</td>\n",
              "    </tr>\n",
              "    <tr>\n",
              "      <th>60-64</th>\n",
              "      <td>112931</td>\n",
              "    </tr>\n",
              "    <tr>\n",
              "      <th>55-59</th>\n",
              "      <td>109883</td>\n",
              "    </tr>\n",
              "    <tr>\n",
              "      <th>30-34</th>\n",
              "      <td>104296</td>\n",
              "    </tr>\n",
              "    <tr>\n",
              "      <th>65-69</th>\n",
              "      <td>102041</td>\n",
              "    </tr>\n",
              "    <tr>\n",
              "      <th>70-74</th>\n",
              "      <td>83304</td>\n",
              "    </tr>\n",
              "    <tr>\n",
              "      <th>80+</th>\n",
              "      <td>81070</td>\n",
              "    </tr>\n",
              "    <tr>\n",
              "      <th>25-29</th>\n",
              "      <td>79907</td>\n",
              "    </tr>\n",
              "    <tr>\n",
              "      <th>75-79</th>\n",
              "      <td>65478</td>\n",
              "    </tr>\n",
              "    <tr>\n",
              "      <th>20-24</th>\n",
              "      <td>36575</td>\n",
              "    </tr>\n",
              "    <tr>\n",
              "      <th>15-19</th>\n",
              "      <td>5464</td>\n",
              "    </tr>\n",
              "  </tbody>\n",
              "</table>\n",
              "</div><br><label><b>dtype:</b> int64</label>"
            ]
          },
          "metadata": {},
          "execution_count": 87
        }
      ],
      "source": [
        "# --- Observacion 1 ---\n",
        "# - Hay hogares con jefe marcado por error a personas menores de 15 años, se eliminarán.\n",
        "tramos_a_eliminar = ['0-04', '05-09', '10-14']\n",
        "\n",
        "# Contamos cuántos vamos a eliminar\n",
        "n_a_eliminar = df_extendido[df_extendido['PERNA01_TRAMO'].isin(tramos_a_eliminar)].shape[0]\n",
        "print(f\"Se eliminarán {n_a_eliminar} hogares con jefe de hogar de edad 0-14 años.\")\n",
        "\n",
        "# Filtramos el dataframe para mantener solo los que NO están en esos tramos\n",
        "df_extendido = df_extendido[~df_extendido['PERNA01_TRAMO'].isin(tramos_a_eliminar)].copy()\n",
        "\n",
        "# Verificamos el resultado\n",
        "df_extendido.PERNA01_TRAMO.value_counts()"
      ]
    },
    {
      "cell_type": "code",
      "execution_count": null,
      "metadata": {
        "id": "jVMGCLZfmMMu"
      },
      "outputs": [],
      "source": [
        "copia_seguridad = df_extendido.copy()"
      ]
    },
    {
      "cell_type": "code",
      "execution_count": null,
      "metadata": {
        "id": "bNQ-mwaJmMMu"
      },
      "outputs": [],
      "source": [
        "# df_extendido = copia_seguridad.copy()"
      ]
    },
    {
      "cell_type": "code",
      "execution_count": null,
      "metadata": {
        "id": "jXNlBwF-mMMv"
      },
      "outputs": [],
      "source": [
        "# --- Observacion 2 ---\n",
        "# - Códigos genéricos (9999, 9898, 8888, 7777, 99), se procesarán como NaN (-1 y 'desconocido').\n",
        "\n",
        "# Lista de códigos presentes a reemplazar\n",
        "codigos_invalidos = [9898, 8888, '9898', '8888'] # Dato ignorado (9898) y dato no relevado (8888)\n",
        "\n",
        "# Itera sobre las columnas que se usarán como features\n",
        "col_num = ['NIVELEDU', 'VIVDV07', 'HOGCE28', 'HOGCE11', 'HOGTE01', 'HOGPR01_CON_RRAA', 'HOGHD01']\n",
        "col_cat = ['MATERIALIDAD']\n",
        "\n",
        "for col in col_num:\n",
        "    if col in df_extendido.columns:\n",
        "        df_extendido[col] = df_extendido[col].replace(codigos_invalidos, -1)\n",
        "for col in col_cat:\n",
        "    if col in df_extendido.columns:\n",
        "        df_extendido[col] = df_extendido[col].replace(codigos_invalidos, 'Desconocido')"
      ]
    },
    {
      "cell_type": "code",
      "execution_count": null,
      "metadata": {
        "colab": {
          "base_uri": "https://localhost:8080/",
          "height": 143
        },
        "id": "111fc_ocmMMv",
        "outputId": "ef321828-d26e-4436-e70d-afcfc0dd670f"
      },
      "outputs": [
        {
          "output_type": "execute_result",
          "data": {
            "text/plain": [
              "REGION_4         1         2       3         4\n",
              "HOGCE11                                       \n",
              "False     0.994935  0.996292  0.9966  0.991333\n",
              "True      0.005065  0.003708  0.0034  0.008667"
            ],
            "text/html": [
              "\n",
              "  <div id=\"df-02a52547-03cc-4f55-877e-065f098f5f77\" class=\"colab-df-container\">\n",
              "    <div>\n",
              "<style scoped>\n",
              "    .dataframe tbody tr th:only-of-type {\n",
              "        vertical-align: middle;\n",
              "    }\n",
              "\n",
              "    .dataframe tbody tr th {\n",
              "        vertical-align: top;\n",
              "    }\n",
              "\n",
              "    .dataframe thead th {\n",
              "        text-align: right;\n",
              "    }\n",
              "</style>\n",
              "<table border=\"1\" class=\"dataframe\">\n",
              "  <thead>\n",
              "    <tr style=\"text-align: right;\">\n",
              "      <th>REGION_4</th>\n",
              "      <th>1</th>\n",
              "      <th>2</th>\n",
              "      <th>3</th>\n",
              "      <th>4</th>\n",
              "    </tr>\n",
              "    <tr>\n",
              "      <th>HOGCE11</th>\n",
              "      <th></th>\n",
              "      <th></th>\n",
              "      <th></th>\n",
              "      <th></th>\n",
              "    </tr>\n",
              "  </thead>\n",
              "  <tbody>\n",
              "    <tr>\n",
              "      <th>False</th>\n",
              "      <td>0.994935</td>\n",
              "      <td>0.996292</td>\n",
              "      <td>0.9966</td>\n",
              "      <td>0.991333</td>\n",
              "    </tr>\n",
              "    <tr>\n",
              "      <th>True</th>\n",
              "      <td>0.005065</td>\n",
              "      <td>0.003708</td>\n",
              "      <td>0.0034</td>\n",
              "      <td>0.008667</td>\n",
              "    </tr>\n",
              "  </tbody>\n",
              "</table>\n",
              "</div>\n",
              "    <div class=\"colab-df-buttons\">\n",
              "\n",
              "  <div class=\"colab-df-container\">\n",
              "    <button class=\"colab-df-convert\" onclick=\"convertToInteractive('df-02a52547-03cc-4f55-877e-065f098f5f77')\"\n",
              "            title=\"Convert this dataframe to an interactive table.\"\n",
              "            style=\"display:none;\">\n",
              "\n",
              "  <svg xmlns=\"http://www.w3.org/2000/svg\" height=\"24px\" viewBox=\"0 -960 960 960\">\n",
              "    <path d=\"M120-120v-720h720v720H120Zm60-500h600v-160H180v160Zm220 220h160v-160H400v160Zm0 220h160v-160H400v160ZM180-400h160v-160H180v160Zm440 0h160v-160H620v160ZM180-180h160v-160H180v160Zm440 0h160v-160H620v160Z\"/>\n",
              "  </svg>\n",
              "    </button>\n",
              "\n",
              "  <style>\n",
              "    .colab-df-container {\n",
              "      display:flex;\n",
              "      gap: 12px;\n",
              "    }\n",
              "\n",
              "    .colab-df-convert {\n",
              "      background-color: #E8F0FE;\n",
              "      border: none;\n",
              "      border-radius: 50%;\n",
              "      cursor: pointer;\n",
              "      display: none;\n",
              "      fill: #1967D2;\n",
              "      height: 32px;\n",
              "      padding: 0 0 0 0;\n",
              "      width: 32px;\n",
              "    }\n",
              "\n",
              "    .colab-df-convert:hover {\n",
              "      background-color: #E2EBFA;\n",
              "      box-shadow: 0px 1px 2px rgba(60, 64, 67, 0.3), 0px 1px 3px 1px rgba(60, 64, 67, 0.15);\n",
              "      fill: #174EA6;\n",
              "    }\n",
              "\n",
              "    .colab-df-buttons div {\n",
              "      margin-bottom: 4px;\n",
              "    }\n",
              "\n",
              "    [theme=dark] .colab-df-convert {\n",
              "      background-color: #3B4455;\n",
              "      fill: #D2E3FC;\n",
              "    }\n",
              "\n",
              "    [theme=dark] .colab-df-convert:hover {\n",
              "      background-color: #434B5C;\n",
              "      box-shadow: 0px 1px 3px 1px rgba(0, 0, 0, 0.15);\n",
              "      filter: drop-shadow(0px 1px 2px rgba(0, 0, 0, 0.3));\n",
              "      fill: #FFFFFF;\n",
              "    }\n",
              "  </style>\n",
              "\n",
              "    <script>\n",
              "      const buttonEl =\n",
              "        document.querySelector('#df-02a52547-03cc-4f55-877e-065f098f5f77 button.colab-df-convert');\n",
              "      buttonEl.style.display =\n",
              "        google.colab.kernel.accessAllowed ? 'block' : 'none';\n",
              "\n",
              "      async function convertToInteractive(key) {\n",
              "        const element = document.querySelector('#df-02a52547-03cc-4f55-877e-065f098f5f77');\n",
              "        const dataTable =\n",
              "          await google.colab.kernel.invokeFunction('convertToInteractive',\n",
              "                                                    [key], {});\n",
              "        if (!dataTable) return;\n",
              "\n",
              "        const docLinkHtml = 'Like what you see? Visit the ' +\n",
              "          '<a target=\"_blank\" href=https://colab.research.google.com/notebooks/data_table.ipynb>data table notebook</a>'\n",
              "          + ' to learn more about interactive tables.';\n",
              "        element.innerHTML = '';\n",
              "        dataTable['output_type'] = 'display_data';\n",
              "        await google.colab.output.renderOutput(dataTable, element);\n",
              "        const docLink = document.createElement('div');\n",
              "        docLink.innerHTML = docLinkHtml;\n",
              "        element.appendChild(docLink);\n",
              "      }\n",
              "    </script>\n",
              "  </div>\n",
              "\n",
              "\n",
              "<div id=\"df-a4a806d4-acad-49cf-89f7-cb84b358ae3d\">\n",
              "  <button class=\"colab-df-quickchart\" onclick=\"quickchart('df-a4a806d4-acad-49cf-89f7-cb84b358ae3d')\"\n",
              "            title=\"Suggest charts\"\n",
              "            style=\"display:none;\">\n",
              "\n",
              "<svg xmlns=\"http://www.w3.org/2000/svg\" height=\"24px\"viewBox=\"0 0 24 24\"\n",
              "     width=\"24px\">\n",
              "    <g>\n",
              "        <path d=\"M19 3H5c-1.1 0-2 .9-2 2v14c0 1.1.9 2 2 2h14c1.1 0 2-.9 2-2V5c0-1.1-.9-2-2-2zM9 17H7v-7h2v7zm4 0h-2V7h2v10zm4 0h-2v-4h2v4z\"/>\n",
              "    </g>\n",
              "</svg>\n",
              "  </button>\n",
              "\n",
              "<style>\n",
              "  .colab-df-quickchart {\n",
              "      --bg-color: #E8F0FE;\n",
              "      --fill-color: #1967D2;\n",
              "      --hover-bg-color: #E2EBFA;\n",
              "      --hover-fill-color: #174EA6;\n",
              "      --disabled-fill-color: #AAA;\n",
              "      --disabled-bg-color: #DDD;\n",
              "  }\n",
              "\n",
              "  [theme=dark] .colab-df-quickchart {\n",
              "      --bg-color: #3B4455;\n",
              "      --fill-color: #D2E3FC;\n",
              "      --hover-bg-color: #434B5C;\n",
              "      --hover-fill-color: #FFFFFF;\n",
              "      --disabled-bg-color: #3B4455;\n",
              "      --disabled-fill-color: #666;\n",
              "  }\n",
              "\n",
              "  .colab-df-quickchart {\n",
              "    background-color: var(--bg-color);\n",
              "    border: none;\n",
              "    border-radius: 50%;\n",
              "    cursor: pointer;\n",
              "    display: none;\n",
              "    fill: var(--fill-color);\n",
              "    height: 32px;\n",
              "    padding: 0;\n",
              "    width: 32px;\n",
              "  }\n",
              "\n",
              "  .colab-df-quickchart:hover {\n",
              "    background-color: var(--hover-bg-color);\n",
              "    box-shadow: 0 1px 2px rgba(60, 64, 67, 0.3), 0 1px 3px 1px rgba(60, 64, 67, 0.15);\n",
              "    fill: var(--button-hover-fill-color);\n",
              "  }\n",
              "\n",
              "  .colab-df-quickchart-complete:disabled,\n",
              "  .colab-df-quickchart-complete:disabled:hover {\n",
              "    background-color: var(--disabled-bg-color);\n",
              "    fill: var(--disabled-fill-color);\n",
              "    box-shadow: none;\n",
              "  }\n",
              "\n",
              "  .colab-df-spinner {\n",
              "    border: 2px solid var(--fill-color);\n",
              "    border-color: transparent;\n",
              "    border-bottom-color: var(--fill-color);\n",
              "    animation:\n",
              "      spin 1s steps(1) infinite;\n",
              "  }\n",
              "\n",
              "  @keyframes spin {\n",
              "    0% {\n",
              "      border-color: transparent;\n",
              "      border-bottom-color: var(--fill-color);\n",
              "      border-left-color: var(--fill-color);\n",
              "    }\n",
              "    20% {\n",
              "      border-color: transparent;\n",
              "      border-left-color: var(--fill-color);\n",
              "      border-top-color: var(--fill-color);\n",
              "    }\n",
              "    30% {\n",
              "      border-color: transparent;\n",
              "      border-left-color: var(--fill-color);\n",
              "      border-top-color: var(--fill-color);\n",
              "      border-right-color: var(--fill-color);\n",
              "    }\n",
              "    40% {\n",
              "      border-color: transparent;\n",
              "      border-right-color: var(--fill-color);\n",
              "      border-top-color: var(--fill-color);\n",
              "    }\n",
              "    60% {\n",
              "      border-color: transparent;\n",
              "      border-right-color: var(--fill-color);\n",
              "    }\n",
              "    80% {\n",
              "      border-color: transparent;\n",
              "      border-right-color: var(--fill-color);\n",
              "      border-bottom-color: var(--fill-color);\n",
              "    }\n",
              "    90% {\n",
              "      border-color: transparent;\n",
              "      border-bottom-color: var(--fill-color);\n",
              "    }\n",
              "  }\n",
              "</style>\n",
              "\n",
              "  <script>\n",
              "    async function quickchart(key) {\n",
              "      const quickchartButtonEl =\n",
              "        document.querySelector('#' + key + ' button');\n",
              "      quickchartButtonEl.disabled = true;  // To prevent multiple clicks.\n",
              "      quickchartButtonEl.classList.add('colab-df-spinner');\n",
              "      try {\n",
              "        const charts = await google.colab.kernel.invokeFunction(\n",
              "            'suggestCharts', [key], {});\n",
              "      } catch (error) {\n",
              "        console.error('Error during call to suggestCharts:', error);\n",
              "      }\n",
              "      quickchartButtonEl.classList.remove('colab-df-spinner');\n",
              "      quickchartButtonEl.classList.add('colab-df-quickchart-complete');\n",
              "    }\n",
              "    (() => {\n",
              "      let quickchartButtonEl =\n",
              "        document.querySelector('#df-a4a806d4-acad-49cf-89f7-cb84b358ae3d button');\n",
              "      quickchartButtonEl.style.display =\n",
              "        google.colab.kernel.accessAllowed ? 'block' : 'none';\n",
              "    })();\n",
              "  </script>\n",
              "</div>\n",
              "\n",
              "    </div>\n",
              "  </div>\n"
            ],
            "application/vnd.google.colaboratory.intrinsic+json": {
              "type": "dataframe",
              "summary": "{\n  \"name\": \"pd\",\n  \"rows\": 2,\n  \"fields\": [\n    {\n      \"column\": \"HOGCE11\",\n      \"properties\": {\n        \"dtype\": \"boolean\",\n        \"num_unique_values\": 2,\n        \"samples\": [\n          true,\n          false\n        ],\n        \"semantic_type\": \"\",\n        \"description\": \"\"\n      }\n    },\n    {\n      \"column\": 1,\n      \"properties\": {\n        \"dtype\": \"number\",\n        \"std\": 0.6999431552423191,\n        \"min\": 0.00506544848304777,\n        \"max\": 0.9949345515169522,\n        \"num_unique_values\": 2,\n        \"samples\": [\n          0.00506544848304777,\n          0.9949345515169522\n        ],\n        \"semantic_type\": \"\",\n        \"description\": \"\"\n      }\n    },\n    {\n      \"column\": 2,\n      \"properties\": {\n        \"dtype\": \"number\",\n        \"std\": 0.7018631972543703,\n        \"min\": 0.003707773756163346,\n        \"max\": 0.9962922262438366,\n        \"num_unique_values\": 2,\n        \"samples\": [\n          0.003707773756163346,\n          0.9962922262438366\n        ],\n        \"semantic_type\": \"\",\n        \"description\": \"\"\n      }\n    },\n    {\n      \"column\": 3,\n      \"properties\": {\n        \"dtype\": \"number\",\n        \"std\": 0.7022986336628156,\n        \"min\": 0.0033998737189761524,\n        \"max\": 0.9966001262810239,\n        \"num_unique_values\": 2,\n        \"samples\": [\n          0.0033998737189761524,\n          0.9966001262810239\n        ],\n        \"semantic_type\": \"\",\n        \"description\": \"\"\n      }\n    },\n    {\n      \"column\": 4,\n      \"properties\": {\n        \"dtype\": \"number\",\n        \"std\": 0.6948503172847724,\n        \"min\": 0.008666628738313326,\n        \"max\": 0.9913333712616866,\n        \"num_unique_values\": 2,\n        \"samples\": [\n          0.008666628738313326,\n          0.9913333712616866\n        ],\n        \"semantic_type\": \"\",\n        \"description\": \"\"\n      }\n    }\n  ]\n}"
            }
          },
          "metadata": {},
          "execution_count": 91
        }
      ],
      "source": [
        "# --- Observacion 3 ---\n",
        "# Antes de seguir, analizamos el sesgo de eliminar datos faltantes en HOGCE11 (objetivo)\n",
        "pd.crosstab(df_extendido['HOGCE11'] == -1, df_extendido['REGION_4'], normalize='columns')"
      ]
    },
    {
      "cell_type": "code",
      "execution_count": null,
      "metadata": {
        "colab": {
          "base_uri": "https://localhost:8080/",
          "height": 143
        },
        "id": "Hb-mv6OmmMMv",
        "outputId": "f259f997-09c9-4082-83a3-1384e4cc698c"
      },
      "outputs": [
        {
          "output_type": "execute_result",
          "data": {
            "text/plain": [
              "AREA            1         2\n",
              "HOGCE11                    \n",
              "False    0.995774  0.991333\n",
              "True     0.004226  0.008667"
            ],
            "text/html": [
              "\n",
              "  <div id=\"df-47a82391-e812-4fbf-ba19-a9d4d516c9ce\" class=\"colab-df-container\">\n",
              "    <div>\n",
              "<style scoped>\n",
              "    .dataframe tbody tr th:only-of-type {\n",
              "        vertical-align: middle;\n",
              "    }\n",
              "\n",
              "    .dataframe tbody tr th {\n",
              "        vertical-align: top;\n",
              "    }\n",
              "\n",
              "    .dataframe thead th {\n",
              "        text-align: right;\n",
              "    }\n",
              "</style>\n",
              "<table border=\"1\" class=\"dataframe\">\n",
              "  <thead>\n",
              "    <tr style=\"text-align: right;\">\n",
              "      <th>AREA</th>\n",
              "      <th>1</th>\n",
              "      <th>2</th>\n",
              "    </tr>\n",
              "    <tr>\n",
              "      <th>HOGCE11</th>\n",
              "      <th></th>\n",
              "      <th></th>\n",
              "    </tr>\n",
              "  </thead>\n",
              "  <tbody>\n",
              "    <tr>\n",
              "      <th>False</th>\n",
              "      <td>0.995774</td>\n",
              "      <td>0.991333</td>\n",
              "    </tr>\n",
              "    <tr>\n",
              "      <th>True</th>\n",
              "      <td>0.004226</td>\n",
              "      <td>0.008667</td>\n",
              "    </tr>\n",
              "  </tbody>\n",
              "</table>\n",
              "</div>\n",
              "    <div class=\"colab-df-buttons\">\n",
              "\n",
              "  <div class=\"colab-df-container\">\n",
              "    <button class=\"colab-df-convert\" onclick=\"convertToInteractive('df-47a82391-e812-4fbf-ba19-a9d4d516c9ce')\"\n",
              "            title=\"Convert this dataframe to an interactive table.\"\n",
              "            style=\"display:none;\">\n",
              "\n",
              "  <svg xmlns=\"http://www.w3.org/2000/svg\" height=\"24px\" viewBox=\"0 -960 960 960\">\n",
              "    <path d=\"M120-120v-720h720v720H120Zm60-500h600v-160H180v160Zm220 220h160v-160H400v160Zm0 220h160v-160H400v160ZM180-400h160v-160H180v160Zm440 0h160v-160H620v160ZM180-180h160v-160H180v160Zm440 0h160v-160H620v160Z\"/>\n",
              "  </svg>\n",
              "    </button>\n",
              "\n",
              "  <style>\n",
              "    .colab-df-container {\n",
              "      display:flex;\n",
              "      gap: 12px;\n",
              "    }\n",
              "\n",
              "    .colab-df-convert {\n",
              "      background-color: #E8F0FE;\n",
              "      border: none;\n",
              "      border-radius: 50%;\n",
              "      cursor: pointer;\n",
              "      display: none;\n",
              "      fill: #1967D2;\n",
              "      height: 32px;\n",
              "      padding: 0 0 0 0;\n",
              "      width: 32px;\n",
              "    }\n",
              "\n",
              "    .colab-df-convert:hover {\n",
              "      background-color: #E2EBFA;\n",
              "      box-shadow: 0px 1px 2px rgba(60, 64, 67, 0.3), 0px 1px 3px 1px rgba(60, 64, 67, 0.15);\n",
              "      fill: #174EA6;\n",
              "    }\n",
              "\n",
              "    .colab-df-buttons div {\n",
              "      margin-bottom: 4px;\n",
              "    }\n",
              "\n",
              "    [theme=dark] .colab-df-convert {\n",
              "      background-color: #3B4455;\n",
              "      fill: #D2E3FC;\n",
              "    }\n",
              "\n",
              "    [theme=dark] .colab-df-convert:hover {\n",
              "      background-color: #434B5C;\n",
              "      box-shadow: 0px 1px 3px 1px rgba(0, 0, 0, 0.15);\n",
              "      filter: drop-shadow(0px 1px 2px rgba(0, 0, 0, 0.3));\n",
              "      fill: #FFFFFF;\n",
              "    }\n",
              "  </style>\n",
              "\n",
              "    <script>\n",
              "      const buttonEl =\n",
              "        document.querySelector('#df-47a82391-e812-4fbf-ba19-a9d4d516c9ce button.colab-df-convert');\n",
              "      buttonEl.style.display =\n",
              "        google.colab.kernel.accessAllowed ? 'block' : 'none';\n",
              "\n",
              "      async function convertToInteractive(key) {\n",
              "        const element = document.querySelector('#df-47a82391-e812-4fbf-ba19-a9d4d516c9ce');\n",
              "        const dataTable =\n",
              "          await google.colab.kernel.invokeFunction('convertToInteractive',\n",
              "                                                    [key], {});\n",
              "        if (!dataTable) return;\n",
              "\n",
              "        const docLinkHtml = 'Like what you see? Visit the ' +\n",
              "          '<a target=\"_blank\" href=https://colab.research.google.com/notebooks/data_table.ipynb>data table notebook</a>'\n",
              "          + ' to learn more about interactive tables.';\n",
              "        element.innerHTML = '';\n",
              "        dataTable['output_type'] = 'display_data';\n",
              "        await google.colab.output.renderOutput(dataTable, element);\n",
              "        const docLink = document.createElement('div');\n",
              "        docLink.innerHTML = docLinkHtml;\n",
              "        element.appendChild(docLink);\n",
              "      }\n",
              "    </script>\n",
              "  </div>\n",
              "\n",
              "\n",
              "<div id=\"df-b866977f-e140-4e7b-b99f-7b916947ed71\">\n",
              "  <button class=\"colab-df-quickchart\" onclick=\"quickchart('df-b866977f-e140-4e7b-b99f-7b916947ed71')\"\n",
              "            title=\"Suggest charts\"\n",
              "            style=\"display:none;\">\n",
              "\n",
              "<svg xmlns=\"http://www.w3.org/2000/svg\" height=\"24px\"viewBox=\"0 0 24 24\"\n",
              "     width=\"24px\">\n",
              "    <g>\n",
              "        <path d=\"M19 3H5c-1.1 0-2 .9-2 2v14c0 1.1.9 2 2 2h14c1.1 0 2-.9 2-2V5c0-1.1-.9-2-2-2zM9 17H7v-7h2v7zm4 0h-2V7h2v10zm4 0h-2v-4h2v4z\"/>\n",
              "    </g>\n",
              "</svg>\n",
              "  </button>\n",
              "\n",
              "<style>\n",
              "  .colab-df-quickchart {\n",
              "      --bg-color: #E8F0FE;\n",
              "      --fill-color: #1967D2;\n",
              "      --hover-bg-color: #E2EBFA;\n",
              "      --hover-fill-color: #174EA6;\n",
              "      --disabled-fill-color: #AAA;\n",
              "      --disabled-bg-color: #DDD;\n",
              "  }\n",
              "\n",
              "  [theme=dark] .colab-df-quickchart {\n",
              "      --bg-color: #3B4455;\n",
              "      --fill-color: #D2E3FC;\n",
              "      --hover-bg-color: #434B5C;\n",
              "      --hover-fill-color: #FFFFFF;\n",
              "      --disabled-bg-color: #3B4455;\n",
              "      --disabled-fill-color: #666;\n",
              "  }\n",
              "\n",
              "  .colab-df-quickchart {\n",
              "    background-color: var(--bg-color);\n",
              "    border: none;\n",
              "    border-radius: 50%;\n",
              "    cursor: pointer;\n",
              "    display: none;\n",
              "    fill: var(--fill-color);\n",
              "    height: 32px;\n",
              "    padding: 0;\n",
              "    width: 32px;\n",
              "  }\n",
              "\n",
              "  .colab-df-quickchart:hover {\n",
              "    background-color: var(--hover-bg-color);\n",
              "    box-shadow: 0 1px 2px rgba(60, 64, 67, 0.3), 0 1px 3px 1px rgba(60, 64, 67, 0.15);\n",
              "    fill: var(--button-hover-fill-color);\n",
              "  }\n",
              "\n",
              "  .colab-df-quickchart-complete:disabled,\n",
              "  .colab-df-quickchart-complete:disabled:hover {\n",
              "    background-color: var(--disabled-bg-color);\n",
              "    fill: var(--disabled-fill-color);\n",
              "    box-shadow: none;\n",
              "  }\n",
              "\n",
              "  .colab-df-spinner {\n",
              "    border: 2px solid var(--fill-color);\n",
              "    border-color: transparent;\n",
              "    border-bottom-color: var(--fill-color);\n",
              "    animation:\n",
              "      spin 1s steps(1) infinite;\n",
              "  }\n",
              "\n",
              "  @keyframes spin {\n",
              "    0% {\n",
              "      border-color: transparent;\n",
              "      border-bottom-color: var(--fill-color);\n",
              "      border-left-color: var(--fill-color);\n",
              "    }\n",
              "    20% {\n",
              "      border-color: transparent;\n",
              "      border-left-color: var(--fill-color);\n",
              "      border-top-color: var(--fill-color);\n",
              "    }\n",
              "    30% {\n",
              "      border-color: transparent;\n",
              "      border-left-color: var(--fill-color);\n",
              "      border-top-color: var(--fill-color);\n",
              "      border-right-color: var(--fill-color);\n",
              "    }\n",
              "    40% {\n",
              "      border-color: transparent;\n",
              "      border-right-color: var(--fill-color);\n",
              "      border-top-color: var(--fill-color);\n",
              "    }\n",
              "    60% {\n",
              "      border-color: transparent;\n",
              "      border-right-color: var(--fill-color);\n",
              "    }\n",
              "    80% {\n",
              "      border-color: transparent;\n",
              "      border-right-color: var(--fill-color);\n",
              "      border-bottom-color: var(--fill-color);\n",
              "    }\n",
              "    90% {\n",
              "      border-color: transparent;\n",
              "      border-bottom-color: var(--fill-color);\n",
              "    }\n",
              "  }\n",
              "</style>\n",
              "\n",
              "  <script>\n",
              "    async function quickchart(key) {\n",
              "      const quickchartButtonEl =\n",
              "        document.querySelector('#' + key + ' button');\n",
              "      quickchartButtonEl.disabled = true;  // To prevent multiple clicks.\n",
              "      quickchartButtonEl.classList.add('colab-df-spinner');\n",
              "      try {\n",
              "        const charts = await google.colab.kernel.invokeFunction(\n",
              "            'suggestCharts', [key], {});\n",
              "      } catch (error) {\n",
              "        console.error('Error during call to suggestCharts:', error);\n",
              "      }\n",
              "      quickchartButtonEl.classList.remove('colab-df-spinner');\n",
              "      quickchartButtonEl.classList.add('colab-df-quickchart-complete');\n",
              "    }\n",
              "    (() => {\n",
              "      let quickchartButtonEl =\n",
              "        document.querySelector('#df-b866977f-e140-4e7b-b99f-7b916947ed71 button');\n",
              "      quickchartButtonEl.style.display =\n",
              "        google.colab.kernel.accessAllowed ? 'block' : 'none';\n",
              "    })();\n",
              "  </script>\n",
              "</div>\n",
              "\n",
              "    </div>\n",
              "  </div>\n"
            ],
            "application/vnd.google.colaboratory.intrinsic+json": {
              "type": "dataframe",
              "summary": "{\n  \"name\": \"pd\",\n  \"rows\": 2,\n  \"fields\": [\n    {\n      \"column\": \"HOGCE11\",\n      \"properties\": {\n        \"dtype\": \"boolean\",\n        \"num_unique_values\": 2,\n        \"samples\": [\n          true,\n          false\n        ],\n        \"semantic_type\": \"\",\n        \"description\": \"\"\n      }\n    },\n    {\n      \"column\": 1,\n      \"properties\": {\n        \"dtype\": \"number\",\n        \"std\": 0.7011306967467382,\n        \"min\": 0.004225729832332598,\n        \"max\": 0.9957742701676674,\n        \"num_unique_values\": 2,\n        \"samples\": [\n          0.004225729832332598,\n          0.9957742701676674\n        ],\n        \"semantic_type\": \"\",\n        \"description\": \"\"\n      }\n    },\n    {\n      \"column\": 2,\n      \"properties\": {\n        \"dtype\": \"number\",\n        \"std\": 0.6948503172847724,\n        \"min\": 0.008666628738313326,\n        \"max\": 0.9913333712616866,\n        \"num_unique_values\": 2,\n        \"samples\": [\n          0.008666628738313326,\n          0.9913333712616866\n        ],\n        \"semantic_type\": \"\",\n        \"description\": \"\"\n      }\n    }\n  ]\n}"
            }
          },
          "metadata": {},
          "execution_count": 92
        }
      ],
      "source": [
        "pd.crosstab(df_extendido['HOGCE11'] == -1, df_extendido['AREA'], normalize='columns')"
      ]
    },
    {
      "cell_type": "code",
      "execution_count": null,
      "metadata": {
        "id": "5wDfd09dmMMw"
      },
      "outputs": [],
      "source": [
        "# --- Procedemos a eliminar los hogares con datos faltantes en HOGCE11 (el sesgo es mínimo) ---\n",
        "df_extendido = df_extendido[df_extendido['HOGCE11'] != -1]"
      ]
    },
    {
      "cell_type": "code",
      "execution_count": null,
      "metadata": {
        "colab": {
          "base_uri": "https://localhost:8080/"
        },
        "id": "-NZkx96SmMMw",
        "outputId": "d2bba28d-894b-48a5-e306-71a33b87e915"
      },
      "outputs": [
        {
          "output_type": "stream",
          "name": "stdout",
          "text": [
            "NaNs después de imputación:\n",
            "REGION_4            0\n",
            "AREA                0\n",
            "HOGTE01             0\n",
            "HOGHD01             0\n",
            "HOGCE28             0\n",
            "HOGCE11             0\n",
            "HOGPR01_CON_RRAA    0\n",
            "HOGAR_KEY           0\n",
            "VIVDV07             0\n",
            "MATERIALIDAD        0\n",
            "PERID               0\n",
            "PERNA01_TRAMO       0\n",
            "NIVELEDU            0\n",
            "dtype: int64\n"
          ]
        }
      ],
      "source": [
        "# --- Analizamos los NaNs después de la imputación ---\n",
        "print(\"NaNs después de imputación:\")\n",
        "print(df_extendido.isnull().sum())"
      ]
    },
    {
      "cell_type": "code",
      "execution_count": null,
      "metadata": {
        "colab": {
          "base_uri": "https://localhost:8080/"
        },
        "id": "vpaYAgD8mMMw",
        "outputId": "93f9d731-6a9d-4d4e-8988-47481262f8b8"
      },
      "outputs": [
        {
          "output_type": "stream",
          "name": "stdout",
          "text": [
            "<class 'pandas.core.frame.DataFrame'>\n",
            "Index: 1244169 entries, 0 to 1255202\n",
            "Data columns (total 13 columns):\n",
            " #   Column            Non-Null Count    Dtype \n",
            "---  ------            --------------    ----- \n",
            " 0   REGION_4          1244169 non-null  int64 \n",
            " 1   AREA              1244169 non-null  int64 \n",
            " 2   HOGTE01           1244169 non-null  int64 \n",
            " 3   HOGHD01           1244169 non-null  int64 \n",
            " 4   HOGCE28           1244169 non-null  int64 \n",
            " 5   HOGCE11           1244169 non-null  int64 \n",
            " 6   HOGPR01_CON_RRAA  1244169 non-null  int64 \n",
            " 7   HOGAR_KEY         1244169 non-null  object\n",
            " 8   VIVDV07           1244169 non-null  int64 \n",
            " 9   MATERIALIDAD      1244169 non-null  object\n",
            " 10  PERID             1244169 non-null  Int64 \n",
            " 11  PERNA01_TRAMO     1244169 non-null  object\n",
            " 12  NIVELEDU          1244169 non-null  Int64 \n",
            "dtypes: Int64(2), int64(8), object(3)\n",
            "memory usage: 135.3+ MB\n"
          ]
        }
      ],
      "source": [
        "# --- Verificar los datos que nos quedaron ---\n",
        "df_extendido.info()"
      ]
    },
    {
      "cell_type": "code",
      "execution_count": null,
      "metadata": {
        "colab": {
          "base_uri": "https://localhost:8080/"
        },
        "id": "Db9L1oaCmMMw",
        "outputId": "f3e467a6-1b8b-4732-adb3-0fa56a18b4e0"
      },
      "outputs": [
        {
          "output_type": "stream",
          "name": "stdout",
          "text": [
            "Cantidad de filas duplicadas: 0\n"
          ]
        }
      ],
      "source": [
        "# --- Verificar datos duplicados ---\n",
        "duplicados = df_extendido[df_extendido.duplicated()]\n",
        "print(f\"Cantidad de filas duplicadas: {duplicados.shape[0]}\")"
      ]
    },
    {
      "cell_type": "code",
      "execution_count": null,
      "metadata": {
        "colab": {
          "base_uri": "https://localhost:8080/",
          "height": 241
        },
        "id": "vCXdErFsmMMw",
        "outputId": "ccd1fa5f-cbac-42f4-8271-e978ba0b3865"
      },
      "outputs": [
        {
          "output_type": "execute_result",
          "data": {
            "text/plain": [
              "REGION_4\n",
              "2    586580\n",
              "1    482201\n",
              "3    123114\n",
              "4     52274\n",
              "Name: count, dtype: int64"
            ],
            "text/html": [
              "<div>\n",
              "<style scoped>\n",
              "    .dataframe tbody tr th:only-of-type {\n",
              "        vertical-align: middle;\n",
              "    }\n",
              "\n",
              "    .dataframe tbody tr th {\n",
              "        vertical-align: top;\n",
              "    }\n",
              "\n",
              "    .dataframe thead th {\n",
              "        text-align: right;\n",
              "    }\n",
              "</style>\n",
              "<table border=\"1\" class=\"dataframe\">\n",
              "  <thead>\n",
              "    <tr style=\"text-align: right;\">\n",
              "      <th></th>\n",
              "      <th>count</th>\n",
              "    </tr>\n",
              "    <tr>\n",
              "      <th>REGION_4</th>\n",
              "      <th></th>\n",
              "    </tr>\n",
              "  </thead>\n",
              "  <tbody>\n",
              "    <tr>\n",
              "      <th>2</th>\n",
              "      <td>586580</td>\n",
              "    </tr>\n",
              "    <tr>\n",
              "      <th>1</th>\n",
              "      <td>482201</td>\n",
              "    </tr>\n",
              "    <tr>\n",
              "      <th>3</th>\n",
              "      <td>123114</td>\n",
              "    </tr>\n",
              "    <tr>\n",
              "      <th>4</th>\n",
              "      <td>52274</td>\n",
              "    </tr>\n",
              "  </tbody>\n",
              "</table>\n",
              "</div><br><label><b>dtype:</b> int64</label>"
            ]
          },
          "metadata": {},
          "execution_count": 97
        }
      ],
      "source": [
        "df_extendido.REGION_4.value_counts()"
      ]
    },
    {
      "cell_type": "code",
      "execution_count": null,
      "metadata": {
        "colab": {
          "base_uri": "https://localhost:8080/",
          "height": 178
        },
        "id": "W6CeJzt-mMMx",
        "outputId": "cb606f8a-24bd-487b-b25e-6d7387849504"
      },
      "outputs": [
        {
          "output_type": "execute_result",
          "data": {
            "text/plain": [
              "AREA\n",
              "1    1191895\n",
              "2      52274\n",
              "Name: count, dtype: int64"
            ],
            "text/html": [
              "<div>\n",
              "<style scoped>\n",
              "    .dataframe tbody tr th:only-of-type {\n",
              "        vertical-align: middle;\n",
              "    }\n",
              "\n",
              "    .dataframe tbody tr th {\n",
              "        vertical-align: top;\n",
              "    }\n",
              "\n",
              "    .dataframe thead th {\n",
              "        text-align: right;\n",
              "    }\n",
              "</style>\n",
              "<table border=\"1\" class=\"dataframe\">\n",
              "  <thead>\n",
              "    <tr style=\"text-align: right;\">\n",
              "      <th></th>\n",
              "      <th>count</th>\n",
              "    </tr>\n",
              "    <tr>\n",
              "      <th>AREA</th>\n",
              "      <th></th>\n",
              "    </tr>\n",
              "  </thead>\n",
              "  <tbody>\n",
              "    <tr>\n",
              "      <th>1</th>\n",
              "      <td>1191895</td>\n",
              "    </tr>\n",
              "    <tr>\n",
              "      <th>2</th>\n",
              "      <td>52274</td>\n",
              "    </tr>\n",
              "  </tbody>\n",
              "</table>\n",
              "</div><br><label><b>dtype:</b> int64</label>"
            ]
          },
          "metadata": {},
          "execution_count": 98
        }
      ],
      "source": [
        "df_extendido.AREA.value_counts()"
      ]
    },
    {
      "cell_type": "code",
      "execution_count": null,
      "metadata": {
        "colab": {
          "base_uri": "https://localhost:8080/",
          "height": 241
        },
        "id": "JTRKvN1ZmMMx",
        "outputId": "499ad3c9-ae37-4901-daff-6ea9728b8259"
      },
      "outputs": [
        {
          "output_type": "execute_result",
          "data": {
            "text/plain": [
              "HOGTE01\n",
              "1    715812\n",
              "3    318162\n",
              "4    145617\n",
              "2     64578\n",
              "Name: count, dtype: int64"
            ],
            "text/html": [
              "<div>\n",
              "<style scoped>\n",
              "    .dataframe tbody tr th:only-of-type {\n",
              "        vertical-align: middle;\n",
              "    }\n",
              "\n",
              "    .dataframe tbody tr th {\n",
              "        vertical-align: top;\n",
              "    }\n",
              "\n",
              "    .dataframe thead th {\n",
              "        text-align: right;\n",
              "    }\n",
              "</style>\n",
              "<table border=\"1\" class=\"dataframe\">\n",
              "  <thead>\n",
              "    <tr style=\"text-align: right;\">\n",
              "      <th></th>\n",
              "      <th>count</th>\n",
              "    </tr>\n",
              "    <tr>\n",
              "      <th>HOGTE01</th>\n",
              "      <th></th>\n",
              "    </tr>\n",
              "  </thead>\n",
              "  <tbody>\n",
              "    <tr>\n",
              "      <th>1</th>\n",
              "      <td>715812</td>\n",
              "    </tr>\n",
              "    <tr>\n",
              "      <th>3</th>\n",
              "      <td>318162</td>\n",
              "    </tr>\n",
              "    <tr>\n",
              "      <th>4</th>\n",
              "      <td>145617</td>\n",
              "    </tr>\n",
              "    <tr>\n",
              "      <th>2</th>\n",
              "      <td>64578</td>\n",
              "    </tr>\n",
              "  </tbody>\n",
              "</table>\n",
              "</div><br><label><b>dtype:</b> int64</label>"
            ]
          },
          "metadata": {},
          "execution_count": 99
        }
      ],
      "source": [
        "df_extendido.HOGTE01.value_counts()"
      ]
    },
    {
      "cell_type": "code",
      "execution_count": null,
      "metadata": {
        "colab": {
          "base_uri": "https://localhost:8080/",
          "height": 742
        },
        "id": "ATH1z4limMMx",
        "outputId": "70b2a214-895b-49ff-e604-2b72264983a3"
      },
      "outputs": [
        {
          "output_type": "execute_result",
          "data": {
            "text/plain": [
              "HOGHD01\n",
              " 2     528772\n",
              " 1     447198\n",
              " 3     228314\n",
              " 4      34045\n",
              " 5       4587\n",
              " 6        820\n",
              " 7        224\n",
              " 8        108\n",
              " 9         46\n",
              " 10        24\n",
              "-1          9\n",
              " 11         7\n",
              " 12         4\n",
              " 19         2\n",
              " 14         2\n",
              " 18         2\n",
              " 15         2\n",
              " 32         1\n",
              " 20         1\n",
              " 39         1\n",
              "Name: count, dtype: int64"
            ],
            "text/html": [
              "<div>\n",
              "<style scoped>\n",
              "    .dataframe tbody tr th:only-of-type {\n",
              "        vertical-align: middle;\n",
              "    }\n",
              "\n",
              "    .dataframe tbody tr th {\n",
              "        vertical-align: top;\n",
              "    }\n",
              "\n",
              "    .dataframe thead th {\n",
              "        text-align: right;\n",
              "    }\n",
              "</style>\n",
              "<table border=\"1\" class=\"dataframe\">\n",
              "  <thead>\n",
              "    <tr style=\"text-align: right;\">\n",
              "      <th></th>\n",
              "      <th>count</th>\n",
              "    </tr>\n",
              "    <tr>\n",
              "      <th>HOGHD01</th>\n",
              "      <th></th>\n",
              "    </tr>\n",
              "  </thead>\n",
              "  <tbody>\n",
              "    <tr>\n",
              "      <th>2</th>\n",
              "      <td>528772</td>\n",
              "    </tr>\n",
              "    <tr>\n",
              "      <th>1</th>\n",
              "      <td>447198</td>\n",
              "    </tr>\n",
              "    <tr>\n",
              "      <th>3</th>\n",
              "      <td>228314</td>\n",
              "    </tr>\n",
              "    <tr>\n",
              "      <th>4</th>\n",
              "      <td>34045</td>\n",
              "    </tr>\n",
              "    <tr>\n",
              "      <th>5</th>\n",
              "      <td>4587</td>\n",
              "    </tr>\n",
              "    <tr>\n",
              "      <th>6</th>\n",
              "      <td>820</td>\n",
              "    </tr>\n",
              "    <tr>\n",
              "      <th>7</th>\n",
              "      <td>224</td>\n",
              "    </tr>\n",
              "    <tr>\n",
              "      <th>8</th>\n",
              "      <td>108</td>\n",
              "    </tr>\n",
              "    <tr>\n",
              "      <th>9</th>\n",
              "      <td>46</td>\n",
              "    </tr>\n",
              "    <tr>\n",
              "      <th>10</th>\n",
              "      <td>24</td>\n",
              "    </tr>\n",
              "    <tr>\n",
              "      <th>-1</th>\n",
              "      <td>9</td>\n",
              "    </tr>\n",
              "    <tr>\n",
              "      <th>11</th>\n",
              "      <td>7</td>\n",
              "    </tr>\n",
              "    <tr>\n",
              "      <th>12</th>\n",
              "      <td>4</td>\n",
              "    </tr>\n",
              "    <tr>\n",
              "      <th>19</th>\n",
              "      <td>2</td>\n",
              "    </tr>\n",
              "    <tr>\n",
              "      <th>14</th>\n",
              "      <td>2</td>\n",
              "    </tr>\n",
              "    <tr>\n",
              "      <th>18</th>\n",
              "      <td>2</td>\n",
              "    </tr>\n",
              "    <tr>\n",
              "      <th>15</th>\n",
              "      <td>2</td>\n",
              "    </tr>\n",
              "    <tr>\n",
              "      <th>32</th>\n",
              "      <td>1</td>\n",
              "    </tr>\n",
              "    <tr>\n",
              "      <th>20</th>\n",
              "      <td>1</td>\n",
              "    </tr>\n",
              "    <tr>\n",
              "      <th>39</th>\n",
              "      <td>1</td>\n",
              "    </tr>\n",
              "  </tbody>\n",
              "</table>\n",
              "</div><br><label><b>dtype:</b> int64</label>"
            ]
          },
          "metadata": {},
          "execution_count": 100
        }
      ],
      "source": [
        "df_extendido.HOGHD01.value_counts()"
      ]
    },
    {
      "cell_type": "code",
      "execution_count": null,
      "metadata": {
        "colab": {
          "base_uri": "https://localhost:8080/",
          "height": 178
        },
        "id": "ArH8yMJ4mMMx",
        "outputId": "fae9fefa-7cd1-42f1-8c67-33c0a0d709cd"
      },
      "outputs": [
        {
          "output_type": "execute_result",
          "data": {
            "text/plain": [
              "HOGCE28\n",
              "1    728856\n",
              "2    515313\n",
              "Name: count, dtype: int64"
            ],
            "text/html": [
              "<div>\n",
              "<style scoped>\n",
              "    .dataframe tbody tr th:only-of-type {\n",
              "        vertical-align: middle;\n",
              "    }\n",
              "\n",
              "    .dataframe tbody tr th {\n",
              "        vertical-align: top;\n",
              "    }\n",
              "\n",
              "    .dataframe thead th {\n",
              "        text-align: right;\n",
              "    }\n",
              "</style>\n",
              "<table border=\"1\" class=\"dataframe\">\n",
              "  <thead>\n",
              "    <tr style=\"text-align: right;\">\n",
              "      <th></th>\n",
              "      <th>count</th>\n",
              "    </tr>\n",
              "    <tr>\n",
              "      <th>HOGCE28</th>\n",
              "      <th></th>\n",
              "    </tr>\n",
              "  </thead>\n",
              "  <tbody>\n",
              "    <tr>\n",
              "      <th>1</th>\n",
              "      <td>728856</td>\n",
              "    </tr>\n",
              "    <tr>\n",
              "      <th>2</th>\n",
              "      <td>515313</td>\n",
              "    </tr>\n",
              "  </tbody>\n",
              "</table>\n",
              "</div><br><label><b>dtype:</b> int64</label>"
            ]
          },
          "metadata": {},
          "execution_count": 101
        }
      ],
      "source": [
        "df_extendido.HOGCE28.value_counts()"
      ]
    },
    {
      "cell_type": "code",
      "execution_count": null,
      "metadata": {
        "colab": {
          "base_uri": "https://localhost:8080/",
          "height": 178
        },
        "id": "IQn6xaiCmMM5",
        "outputId": "ad010382-e095-4b0f-95e3-66f99b5b6e21"
      },
      "outputs": [
        {
          "output_type": "execute_result",
          "data": {
            "text/plain": [
              "HOGCE11\n",
              "1    972948\n",
              "2    271221\n",
              "Name: count, dtype: int64"
            ],
            "text/html": [
              "<div>\n",
              "<style scoped>\n",
              "    .dataframe tbody tr th:only-of-type {\n",
              "        vertical-align: middle;\n",
              "    }\n",
              "\n",
              "    .dataframe tbody tr th {\n",
              "        vertical-align: top;\n",
              "    }\n",
              "\n",
              "    .dataframe thead th {\n",
              "        text-align: right;\n",
              "    }\n",
              "</style>\n",
              "<table border=\"1\" class=\"dataframe\">\n",
              "  <thead>\n",
              "    <tr style=\"text-align: right;\">\n",
              "      <th></th>\n",
              "      <th>count</th>\n",
              "    </tr>\n",
              "    <tr>\n",
              "      <th>HOGCE11</th>\n",
              "      <th></th>\n",
              "    </tr>\n",
              "  </thead>\n",
              "  <tbody>\n",
              "    <tr>\n",
              "      <th>1</th>\n",
              "      <td>972948</td>\n",
              "    </tr>\n",
              "    <tr>\n",
              "      <th>2</th>\n",
              "      <td>271221</td>\n",
              "    </tr>\n",
              "  </tbody>\n",
              "</table>\n",
              "</div><br><label><b>dtype:</b> int64</label>"
            ]
          },
          "metadata": {},
          "execution_count": 102
        }
      ],
      "source": [
        "df_extendido.HOGCE11.value_counts()"
      ]
    },
    {
      "cell_type": "code",
      "execution_count": null,
      "metadata": {
        "colab": {
          "base_uri": "https://localhost:8080/",
          "height": 899
        },
        "id": "A1jlJXSImMM5",
        "outputId": "027ca7cb-1cf1-4cfe-a433-616f79edb8b5"
      },
      "outputs": [
        {
          "output_type": "execute_result",
          "data": {
            "text/plain": [
              "HOGPR01_CON_RRAA\n",
              "2     364981\n",
              "1     362464\n",
              "3     243860\n",
              "4     171236\n",
              "5      64461\n",
              "6      22533\n",
              "7       8419\n",
              "8       3405\n",
              "9       1464\n",
              "10       648\n",
              "11       319\n",
              "12       170\n",
              "13        82\n",
              "14        45\n",
              "15        27\n",
              "16        21\n",
              "17         8\n",
              "18         7\n",
              "19         7\n",
              "20         4\n",
              "23         3\n",
              "21         2\n",
              "22         1\n",
              "27         1\n",
              "44         1\n",
              "Name: count, dtype: int64"
            ],
            "text/html": [
              "<div>\n",
              "<style scoped>\n",
              "    .dataframe tbody tr th:only-of-type {\n",
              "        vertical-align: middle;\n",
              "    }\n",
              "\n",
              "    .dataframe tbody tr th {\n",
              "        vertical-align: top;\n",
              "    }\n",
              "\n",
              "    .dataframe thead th {\n",
              "        text-align: right;\n",
              "    }\n",
              "</style>\n",
              "<table border=\"1\" class=\"dataframe\">\n",
              "  <thead>\n",
              "    <tr style=\"text-align: right;\">\n",
              "      <th></th>\n",
              "      <th>count</th>\n",
              "    </tr>\n",
              "    <tr>\n",
              "      <th>HOGPR01_CON_RRAA</th>\n",
              "      <th></th>\n",
              "    </tr>\n",
              "  </thead>\n",
              "  <tbody>\n",
              "    <tr>\n",
              "      <th>2</th>\n",
              "      <td>364981</td>\n",
              "    </tr>\n",
              "    <tr>\n",
              "      <th>1</th>\n",
              "      <td>362464</td>\n",
              "    </tr>\n",
              "    <tr>\n",
              "      <th>3</th>\n",
              "      <td>243860</td>\n",
              "    </tr>\n",
              "    <tr>\n",
              "      <th>4</th>\n",
              "      <td>171236</td>\n",
              "    </tr>\n",
              "    <tr>\n",
              "      <th>5</th>\n",
              "      <td>64461</td>\n",
              "    </tr>\n",
              "    <tr>\n",
              "      <th>6</th>\n",
              "      <td>22533</td>\n",
              "    </tr>\n",
              "    <tr>\n",
              "      <th>7</th>\n",
              "      <td>8419</td>\n",
              "    </tr>\n",
              "    <tr>\n",
              "      <th>8</th>\n",
              "      <td>3405</td>\n",
              "    </tr>\n",
              "    <tr>\n",
              "      <th>9</th>\n",
              "      <td>1464</td>\n",
              "    </tr>\n",
              "    <tr>\n",
              "      <th>10</th>\n",
              "      <td>648</td>\n",
              "    </tr>\n",
              "    <tr>\n",
              "      <th>11</th>\n",
              "      <td>319</td>\n",
              "    </tr>\n",
              "    <tr>\n",
              "      <th>12</th>\n",
              "      <td>170</td>\n",
              "    </tr>\n",
              "    <tr>\n",
              "      <th>13</th>\n",
              "      <td>82</td>\n",
              "    </tr>\n",
              "    <tr>\n",
              "      <th>14</th>\n",
              "      <td>45</td>\n",
              "    </tr>\n",
              "    <tr>\n",
              "      <th>15</th>\n",
              "      <td>27</td>\n",
              "    </tr>\n",
              "    <tr>\n",
              "      <th>16</th>\n",
              "      <td>21</td>\n",
              "    </tr>\n",
              "    <tr>\n",
              "      <th>17</th>\n",
              "      <td>8</td>\n",
              "    </tr>\n",
              "    <tr>\n",
              "      <th>18</th>\n",
              "      <td>7</td>\n",
              "    </tr>\n",
              "    <tr>\n",
              "      <th>19</th>\n",
              "      <td>7</td>\n",
              "    </tr>\n",
              "    <tr>\n",
              "      <th>20</th>\n",
              "      <td>4</td>\n",
              "    </tr>\n",
              "    <tr>\n",
              "      <th>23</th>\n",
              "      <td>3</td>\n",
              "    </tr>\n",
              "    <tr>\n",
              "      <th>21</th>\n",
              "      <td>2</td>\n",
              "    </tr>\n",
              "    <tr>\n",
              "      <th>22</th>\n",
              "      <td>1</td>\n",
              "    </tr>\n",
              "    <tr>\n",
              "      <th>27</th>\n",
              "      <td>1</td>\n",
              "    </tr>\n",
              "    <tr>\n",
              "      <th>44</th>\n",
              "      <td>1</td>\n",
              "    </tr>\n",
              "  </tbody>\n",
              "</table>\n",
              "</div><br><label><b>dtype:</b> int64</label>"
            ]
          },
          "metadata": {},
          "execution_count": 103
        }
      ],
      "source": [
        "df_extendido.HOGPR01_CON_RRAA.value_counts()"
      ]
    },
    {
      "cell_type": "code",
      "execution_count": null,
      "metadata": {
        "colab": {
          "base_uri": "https://localhost:8080/",
          "height": 335
        },
        "id": "efAO8_ECmMM6",
        "outputId": "a706ec8f-2e55-4b12-ead4-72db034ca75e"
      },
      "outputs": [
        {
          "output_type": "execute_result",
          "data": {
            "text/plain": [
              "VIVDV07\n",
              " 1    1235114\n",
              " 6       4089\n",
              " 5       2292\n",
              " 3       1755\n",
              " 4        380\n",
              "-1        285\n",
              " 2        254\n",
              "Name: count, dtype: int64"
            ],
            "text/html": [
              "<div>\n",
              "<style scoped>\n",
              "    .dataframe tbody tr th:only-of-type {\n",
              "        vertical-align: middle;\n",
              "    }\n",
              "\n",
              "    .dataframe tbody tr th {\n",
              "        vertical-align: top;\n",
              "    }\n",
              "\n",
              "    .dataframe thead th {\n",
              "        text-align: right;\n",
              "    }\n",
              "</style>\n",
              "<table border=\"1\" class=\"dataframe\">\n",
              "  <thead>\n",
              "    <tr style=\"text-align: right;\">\n",
              "      <th></th>\n",
              "      <th>count</th>\n",
              "    </tr>\n",
              "    <tr>\n",
              "      <th>VIVDV07</th>\n",
              "      <th></th>\n",
              "    </tr>\n",
              "  </thead>\n",
              "  <tbody>\n",
              "    <tr>\n",
              "      <th>1</th>\n",
              "      <td>1235114</td>\n",
              "    </tr>\n",
              "    <tr>\n",
              "      <th>6</th>\n",
              "      <td>4089</td>\n",
              "    </tr>\n",
              "    <tr>\n",
              "      <th>5</th>\n",
              "      <td>2292</td>\n",
              "    </tr>\n",
              "    <tr>\n",
              "      <th>3</th>\n",
              "      <td>1755</td>\n",
              "    </tr>\n",
              "    <tr>\n",
              "      <th>4</th>\n",
              "      <td>380</td>\n",
              "    </tr>\n",
              "    <tr>\n",
              "      <th>-1</th>\n",
              "      <td>285</td>\n",
              "    </tr>\n",
              "    <tr>\n",
              "      <th>2</th>\n",
              "      <td>254</td>\n",
              "    </tr>\n",
              "  </tbody>\n",
              "</table>\n",
              "</div><br><label><b>dtype:</b> int64</label>"
            ]
          },
          "metadata": {},
          "execution_count": 104
        }
      ],
      "source": [
        "df_extendido.VIVDV07.value_counts()"
      ]
    },
    {
      "cell_type": "code",
      "execution_count": null,
      "metadata": {
        "colab": {
          "base_uri": "https://localhost:8080/",
          "height": 460
        },
        "id": "fX44r37ImMM6",
        "outputId": "d1b0f822-3f5b-4165-da7c-0c41ceb8719a"
      },
      "outputs": [
        {
          "output_type": "execute_result",
          "data": {
            "text/plain": [
              "MATERIALIDAD\n",
              "Materiales pesados en paredes y techos y piso resistente             708600\n",
              "Materiales pesados en paredes, techo liviano y piso resistente       436155\n",
              "Otras combinaciones de materiales                                     48643\n",
              "Materiales livianos en paredes y techos y piso resistente             45598\n",
              "Materiales livianos en paredes y techos y piso no resistente           1490\n",
              "Materiales de desecho en paredes o techos                              1413\n",
              "Paredes de barro o adobe, techo liviano y piso resistente              1402\n",
              "Materiales pesados en paredes, techo liviano y piso no resistente       690\n",
              "Materiales pesados en paredes y techos y piso no resistente             103\n",
              "Paredes de barro o adobe, techo liviano y piso no resistente             39\n",
              "Desconocido                                                              36\n",
              "Name: count, dtype: int64"
            ],
            "text/html": [
              "<div>\n",
              "<style scoped>\n",
              "    .dataframe tbody tr th:only-of-type {\n",
              "        vertical-align: middle;\n",
              "    }\n",
              "\n",
              "    .dataframe tbody tr th {\n",
              "        vertical-align: top;\n",
              "    }\n",
              "\n",
              "    .dataframe thead th {\n",
              "        text-align: right;\n",
              "    }\n",
              "</style>\n",
              "<table border=\"1\" class=\"dataframe\">\n",
              "  <thead>\n",
              "    <tr style=\"text-align: right;\">\n",
              "      <th></th>\n",
              "      <th>count</th>\n",
              "    </tr>\n",
              "    <tr>\n",
              "      <th>MATERIALIDAD</th>\n",
              "      <th></th>\n",
              "    </tr>\n",
              "  </thead>\n",
              "  <tbody>\n",
              "    <tr>\n",
              "      <th>Materiales pesados en paredes y techos y piso resistente</th>\n",
              "      <td>708600</td>\n",
              "    </tr>\n",
              "    <tr>\n",
              "      <th>Materiales pesados en paredes, techo liviano y piso resistente</th>\n",
              "      <td>436155</td>\n",
              "    </tr>\n",
              "    <tr>\n",
              "      <th>Otras combinaciones de materiales</th>\n",
              "      <td>48643</td>\n",
              "    </tr>\n",
              "    <tr>\n",
              "      <th>Materiales livianos en paredes y techos y piso resistente</th>\n",
              "      <td>45598</td>\n",
              "    </tr>\n",
              "    <tr>\n",
              "      <th>Materiales livianos en paredes y techos y piso no resistente</th>\n",
              "      <td>1490</td>\n",
              "    </tr>\n",
              "    <tr>\n",
              "      <th>Materiales de desecho en paredes o techos</th>\n",
              "      <td>1413</td>\n",
              "    </tr>\n",
              "    <tr>\n",
              "      <th>Paredes de barro o adobe, techo liviano y piso resistente</th>\n",
              "      <td>1402</td>\n",
              "    </tr>\n",
              "    <tr>\n",
              "      <th>Materiales pesados en paredes, techo liviano y piso no resistente</th>\n",
              "      <td>690</td>\n",
              "    </tr>\n",
              "    <tr>\n",
              "      <th>Materiales pesados en paredes y techos y piso no resistente</th>\n",
              "      <td>103</td>\n",
              "    </tr>\n",
              "    <tr>\n",
              "      <th>Paredes de barro o adobe, techo liviano y piso no resistente</th>\n",
              "      <td>39</td>\n",
              "    </tr>\n",
              "    <tr>\n",
              "      <th>Desconocido</th>\n",
              "      <td>36</td>\n",
              "    </tr>\n",
              "  </tbody>\n",
              "</table>\n",
              "</div><br><label><b>dtype:</b> int64</label>"
            ]
          },
          "metadata": {},
          "execution_count": 105
        }
      ],
      "source": [
        "df_extendido.MATERIALIDAD.value_counts()"
      ]
    },
    {
      "cell_type": "code",
      "execution_count": null,
      "metadata": {
        "colab": {
          "base_uri": "https://localhost:8080/",
          "height": 554
        },
        "id": "kcJ6HVtwmMM6",
        "outputId": "9deb2884-545c-4115-ebc4-deaa7745e304"
      },
      "outputs": [
        {
          "output_type": "execute_result",
          "data": {
            "text/plain": [
              "PERNA01_TRAMO\n",
              "45-49    122372\n",
              "40-44    117312\n",
              "50-54    114284\n",
              "35-39    112792\n",
              "60-64    112422\n",
              "55-59    109432\n",
              "30-34    103788\n",
              "65-69    101599\n",
              "70-74     82929\n",
              "80+       80826\n",
              "25-29     79461\n",
              "75-79     65209\n",
              "20-24     36315\n",
              "15-19      5428\n",
              "Name: count, dtype: int64"
            ],
            "text/html": [
              "<div>\n",
              "<style scoped>\n",
              "    .dataframe tbody tr th:only-of-type {\n",
              "        vertical-align: middle;\n",
              "    }\n",
              "\n",
              "    .dataframe tbody tr th {\n",
              "        vertical-align: top;\n",
              "    }\n",
              "\n",
              "    .dataframe thead th {\n",
              "        text-align: right;\n",
              "    }\n",
              "</style>\n",
              "<table border=\"1\" class=\"dataframe\">\n",
              "  <thead>\n",
              "    <tr style=\"text-align: right;\">\n",
              "      <th></th>\n",
              "      <th>count</th>\n",
              "    </tr>\n",
              "    <tr>\n",
              "      <th>PERNA01_TRAMO</th>\n",
              "      <th></th>\n",
              "    </tr>\n",
              "  </thead>\n",
              "  <tbody>\n",
              "    <tr>\n",
              "      <th>45-49</th>\n",
              "      <td>122372</td>\n",
              "    </tr>\n",
              "    <tr>\n",
              "      <th>40-44</th>\n",
              "      <td>117312</td>\n",
              "    </tr>\n",
              "    <tr>\n",
              "      <th>50-54</th>\n",
              "      <td>114284</td>\n",
              "    </tr>\n",
              "    <tr>\n",
              "      <th>35-39</th>\n",
              "      <td>112792</td>\n",
              "    </tr>\n",
              "    <tr>\n",
              "      <th>60-64</th>\n",
              "      <td>112422</td>\n",
              "    </tr>\n",
              "    <tr>\n",
              "      <th>55-59</th>\n",
              "      <td>109432</td>\n",
              "    </tr>\n",
              "    <tr>\n",
              "      <th>30-34</th>\n",
              "      <td>103788</td>\n",
              "    </tr>\n",
              "    <tr>\n",
              "      <th>65-69</th>\n",
              "      <td>101599</td>\n",
              "    </tr>\n",
              "    <tr>\n",
              "      <th>70-74</th>\n",
              "      <td>82929</td>\n",
              "    </tr>\n",
              "    <tr>\n",
              "      <th>80+</th>\n",
              "      <td>80826</td>\n",
              "    </tr>\n",
              "    <tr>\n",
              "      <th>25-29</th>\n",
              "      <td>79461</td>\n",
              "    </tr>\n",
              "    <tr>\n",
              "      <th>75-79</th>\n",
              "      <td>65209</td>\n",
              "    </tr>\n",
              "    <tr>\n",
              "      <th>20-24</th>\n",
              "      <td>36315</td>\n",
              "    </tr>\n",
              "    <tr>\n",
              "      <th>15-19</th>\n",
              "      <td>5428</td>\n",
              "    </tr>\n",
              "  </tbody>\n",
              "</table>\n",
              "</div><br><label><b>dtype:</b> int64</label>"
            ]
          },
          "metadata": {},
          "execution_count": 106
        }
      ],
      "source": [
        "df_extendido.PERNA01_TRAMO.value_counts()"
      ]
    },
    {
      "cell_type": "code",
      "execution_count": null,
      "metadata": {
        "colab": {
          "base_uri": "https://localhost:8080/",
          "height": 429
        },
        "id": "57HZpqlOmMM6",
        "outputId": "e440649b-bc6b-4763-9457-1a2fa1398666"
      },
      "outputs": [
        {
          "output_type": "execute_result",
          "data": {
            "text/plain": [
              "NIVELEDU\n",
              "2     307186\n",
              "4     299546\n",
              "5     242972\n",
              "9     184032\n",
              "8      55269\n",
              "7      49480\n",
              "10     42500\n",
              "12     37500\n",
              "6      20780\n",
              "-1      4904\n",
              "Name: count, dtype: Int64"
            ],
            "text/html": [
              "<div>\n",
              "<style scoped>\n",
              "    .dataframe tbody tr th:only-of-type {\n",
              "        vertical-align: middle;\n",
              "    }\n",
              "\n",
              "    .dataframe tbody tr th {\n",
              "        vertical-align: top;\n",
              "    }\n",
              "\n",
              "    .dataframe thead th {\n",
              "        text-align: right;\n",
              "    }\n",
              "</style>\n",
              "<table border=\"1\" class=\"dataframe\">\n",
              "  <thead>\n",
              "    <tr style=\"text-align: right;\">\n",
              "      <th></th>\n",
              "      <th>count</th>\n",
              "    </tr>\n",
              "    <tr>\n",
              "      <th>NIVELEDU</th>\n",
              "      <th></th>\n",
              "    </tr>\n",
              "  </thead>\n",
              "  <tbody>\n",
              "    <tr>\n",
              "      <th>2</th>\n",
              "      <td>307186</td>\n",
              "    </tr>\n",
              "    <tr>\n",
              "      <th>4</th>\n",
              "      <td>299546</td>\n",
              "    </tr>\n",
              "    <tr>\n",
              "      <th>5</th>\n",
              "      <td>242972</td>\n",
              "    </tr>\n",
              "    <tr>\n",
              "      <th>9</th>\n",
              "      <td>184032</td>\n",
              "    </tr>\n",
              "    <tr>\n",
              "      <th>8</th>\n",
              "      <td>55269</td>\n",
              "    </tr>\n",
              "    <tr>\n",
              "      <th>7</th>\n",
              "      <td>49480</td>\n",
              "    </tr>\n",
              "    <tr>\n",
              "      <th>10</th>\n",
              "      <td>42500</td>\n",
              "    </tr>\n",
              "    <tr>\n",
              "      <th>12</th>\n",
              "      <td>37500</td>\n",
              "    </tr>\n",
              "    <tr>\n",
              "      <th>6</th>\n",
              "      <td>20780</td>\n",
              "    </tr>\n",
              "    <tr>\n",
              "      <th>-1</th>\n",
              "      <td>4904</td>\n",
              "    </tr>\n",
              "  </tbody>\n",
              "</table>\n",
              "</div><br><label><b>dtype:</b> Int64</label>"
            ]
          },
          "metadata": {},
          "execution_count": 107
        }
      ],
      "source": [
        "df_extendido.NIVELEDU.value_counts()"
      ]
    },
    {
      "cell_type": "code",
      "execution_count": null,
      "metadata": {
        "colab": {
          "base_uri": "https://localhost:8080/",
          "height": 1000
        },
        "id": "hW4p6UTomMM6",
        "outputId": "afdc2c49-b124-43e3-e511-a1bde5b8d9fa"
      },
      "outputs": [
        {
          "output_type": "display_data",
          "data": {
            "text/plain": [
              "<Figure size 1000x600 with 1 Axes>"
            ],
            "image/png": "[encoded data removed]"
          },
          "metadata": {}
        },
        {
          "output_type": "display_data",
          "data": {
            "text/plain": [
              "<Figure size 1000x600 with 1 Axes>"
            ],
            "image/png": "[encoded data removed]"
          },
          "metadata": {}
        }
      ],
      "source": [
        "# Graficar la distribución de cada variable categórica\n",
        "for col in ['MATERIALIDAD', 'PERNA01_TRAMO']:\n",
        "    plt.figure(figsize=(10, 6))\n",
        "    sns.countplot(data=df_extendido, x=col, order=df_extendido[col].value_counts().index)\n",
        "    plt.title(f'Distribución de la variable categórica: {col}')\n",
        "    plt.xticks(rotation=45, ha='right')\n",
        "    plt.xlabel(col)\n",
        "    plt.ylabel('Frecuencia')\n",
        "    plt.show()"
      ]
    },
    {
      "cell_type": "code",
      "execution_count": null,
      "metadata": {
        "colab": {
          "base_uri": "https://localhost:8080/",
          "height": 1000
        },
        "id": "Y9NFInDJmMM7",
        "outputId": "104eca98-fb23-4bba-99d2-61c7bcf30201"
      },
      "outputs": [
        {
          "output_type": "display_data",
          "data": {
            "text/plain": [
              "<Figure size 1000x600 with 1 Axes>"
            ],
            "image/png": "[encoded data removed]"
          },
          "metadata": {}
        },
        {
          "output_type": "display_data",
          "data": {
            "text/plain": [
              "<Figure size 1000x600 with 1 Axes>"
            ],
            "image/png": "[encoded data removed]"
          },
          "metadata": {}
        },
        {
          "output_type": "display_data",
          "data": {
            "text/plain": [
              "<Figure size 1000x600 with 1 Axes>"
            ],
            "image/png": "[encoded data removed]"
          },
          "metadata": {}
        },
        {
          "output_type": "display_data",
          "data": {
            "text/plain": [
              "<Figure size 1000x600 with 1 Axes>"
            ],
            "image/png": "[encoded data removed]"
          },
          "metadata": {}
        },
        {
          "output_type": "display_data",
          "data": {
            "text/plain": [
              "<Figure size 1000x600 with 1 Axes>"
            ],
            "image/png": "[encoded data removed]"
          },
          "metadata": {}
        },
        {
          "output_type": "display_data",
          "data": {
            "text/plain": [
              "<Figure size 1000x600 with 1 Axes>"
            ],
            "image/png": "[encoded data removed]"
          },
          "metadata": {}
        },
        {
          "output_type": "display_data",
          "data": {
            "text/plain": [
              "<Figure size 1000x600 with 1 Axes>"
            ],
            "image/png": "[encoded data removed]"
          },
          "metadata": {}
        },
        {
          "output_type": "display_data",
          "data": {
            "text/plain": [
              "<Figure size 1000x600 with 1 Axes>"
            ],
            "image/png": "[encoded data removed]"
          },
          "metadata": {}
        },
        {
          "output_type": "display_data",
          "data": {
            "text/plain": [
              "<Figure size 1000x600 with 1 Axes>"
            ],
            "image/png": "[encoded data removed]"
          },
          "metadata": {}
        }
      ],
      "source": [
        "# Graficar la distribución de cada variable numérica (muchas son categóricas)\n",
        "numerical_columns = ['HOGTE01', 'HOGHD01', 'HOGCE28', 'HOGCE11', 'HOGPR01_CON_RRAA', 'NIVELEDU', 'VIVDV07', 'AREA', 'REGION_4']\n",
        "\n",
        "for col in numerical_columns:\n",
        "    plt.figure(figsize=(10, 6))\n",
        "    sns.histplot(data=df_extendido, x=col, bins=30)\n",
        "    plt.title(f'Distribución de la variable numérica: {col}')\n",
        "    plt.xlabel(col)\n",
        "    plt.ylabel('Frecuencia')\n",
        "    plt.show()"
      ]
    },
    {
      "cell_type": "code",
      "execution_count": null,
      "metadata": {
        "id": "pidHFuV9mMM7"
      },
      "outputs": [],
      "source": [
        "copia_seguridad = df_extendido.copy()"
      ]
    },
    {
      "cell_type": "code",
      "execution_count": null,
      "metadata": {
        "id": "53UMpfBGmMM7"
      },
      "outputs": [],
      "source": [
        "# df_extendido = copia_seguridad.copy()"
      ]
    },
    {
      "cell_type": "code",
      "execution_count": null,
      "metadata": {
        "id": "UkIORc85mMM7"
      },
      "outputs": [],
      "source": [
        "# --- Observacion 4 ---\n",
        "# - Debo reesctructurar las categorías de NIVELEDU, llevando el 12 a 0 y subiendo un lugar las tres mas bajas.\n",
        "# - NOTA: para el valor desconocido (-1) existe la opcion de mantenerlo o imputarlo (ej: knnimputer, mediana o media). Mi decisión es mantenerlo.\n",
        "\n",
        "recode_mapping = {\n",
        "    12: 0,\n",
        "    0: 1,\n",
        "    1: 2,\n",
        "    2: 3,\n",
        "}\n",
        "\n",
        "df_extendido['NIVELEDU'] = df_extendido['NIVELEDU'].replace(recode_mapping).astype('Int64')"
      ]
    },
    {
      "cell_type": "code",
      "execution_count": null,
      "metadata": {
        "id": "WsvV5GaKtRay",
        "outputId": "a2d1f898-6315-49fb-bfba-c8f6cd7cec51",
        "colab": {
          "base_uri": "https://localhost:8080/"
        }
      },
      "outputs": [
        {
          "output_type": "stream",
          "name": "stdout",
          "text": [
            "\n",
            "Valores en MATERIALIDAD_Agrupada:\n",
            "MATERIALIDAD_Agrupada\n",
            "Buena       708600\n",
            "Media       530535\n",
            "Precaria      5034\n",
            "Name: count, dtype: int64\n"
          ]
        }
      ],
      "source": [
        "# --- Observacion 5 ---\n",
        "# - Vamos a reagrupar la variable MATERIALIDAD en 4 grupos, para que no haya tantos niveles.\n",
        "# - Se agruparán los siguientes niveles:\n",
        "\n",
        "materialidad_map = {\n",
        "    # Buena\n",
        "    \"Materiales pesados en paredes y techos y piso resistente\": 'Buena',\n",
        "\n",
        "    # Media\n",
        "    \"Materiales pesados en paredes, techo liviano y piso resistente\": 'Media',\n",
        "    \"Materiales pesados en paredes y techos y piso no resistente\": 'Media',\n",
        "    \"Materiales livianos en paredes y techos y piso resistente\": 'Media',\n",
        "    \"Otras combinaciones de materiales\": 'Media',\n",
        "    \"Desconocido\": 'Media',\n",
        "\n",
        "    # Precaria\n",
        "    \"Materiales pesados en paredes, techo liviano y piso no resistente\": 'Precaria',\n",
        "    \"Materiales livianos en paredes y techos y piso no resistente\": 'Precaria',\n",
        "    \"Paredes de barro o adobe, techo liviano y piso resistente\": 'Precaria',\n",
        "    \"Paredes de barro o adobe, techo liviano y piso no resistente\": 'Precaria',\n",
        "    \"Materiales de desecho en paredes o techos\": 'Precaria',\n",
        "}\n",
        "\n",
        "# Creamos la nueva columna agrupada usando .map()\n",
        "df_extendido['MATERIALIDAD_Agrupada'] = df_extendido['MATERIALIDAD'].map(materialidad_map)\n",
        "\n",
        "# Verificar los nuevos valores\n",
        "print(\"\\nValores en MATERIALIDAD_Agrupada:\")\n",
        "print(df_extendido['MATERIALIDAD_Agrupada'].value_counts(dropna=False))\n",
        "\n",
        "# Convertir a tipo category para eficiencia\n",
        "df_extendido['MATERIALIDAD_Agrupada'] = df_extendido['MATERIALIDAD_Agrupada'].astype('category')"
      ]
    },
    {
      "cell_type": "code",
      "execution_count": null,
      "metadata": {
        "id": "DuAhm2sitRay",
        "outputId": "5a5cade4-c7cd-45ae-81e6-5321e6e481e1",
        "colab": {
          "base_uri": "https://localhost:8080/"
        }
      },
      "outputs": [
        {
          "output_type": "stream",
          "name": "stdout",
          "text": [
            "\n",
            "Valores en VIVDV07_Agrupada:\n",
            "VIVDV07_Agrupada\n",
            "Red_Publica       1235114\n",
            "Otro_o_Sin_Luz       9055\n",
            "Name: count, dtype: int64\n"
          ]
        }
      ],
      "source": [
        "# --- Observacion 6 ---\n",
        "# - Vamos a agrupar la variable VIVDV07 en dos grupos\n",
        "# Si VIVDV07 es 1 (categoría correspondiente a red pública), asigna 'Red_Publica'\n",
        "# En cualquier otro caso, asigna 'Otro_o_Sin_Luz'\n",
        "df_extendido['VIVDV07_Agrupada'] = np.where(\n",
        "    df_extendido['VIVDV07'] == 1,    # Condición: ¿Utiliza UTE?\n",
        "    'Red_Publica',                   # Valor si la condición es Verdadera\n",
        "    'Otro_o_Sin_Luz'                 # Valor si la condición es Falsa\n",
        ")\n",
        "\n",
        "# Verificar los nuevos valores\n",
        "print(\"\\nValores en VIVDV07_Agrupada:\")\n",
        "print(df_extendido['VIVDV07_Agrupada'].value_counts(dropna=False))\n",
        "\n",
        "# Convertir a tipo category\n",
        "df_extendido['VIVDV07_Agrupada'] = df_extendido['VIVDV07_Agrupada'].astype('category')"
      ]
    },
    {
      "cell_type": "code",
      "execution_count": null,
      "metadata": {
        "id": "WFvQictUtRaz",
        "outputId": "8736638b-ed9e-45dd-ef09-41221c34697b",
        "colab": {
          "base_uri": "https://localhost:8080/"
        }
      },
      "outputs": [
        {
          "output_type": "stream",
          "name": "stdout",
          "text": [
            "\n",
            "Valores en HOGHD01_Agrupada:\n",
            "HOGHD01_Agrupada\n",
            "2_hab          528772\n",
            "1_hab          447198\n",
            "3_hab          228314\n",
            "4_o_mas_hab     39876\n",
            "Desconocido         9\n",
            "Name: count, dtype: int64\n"
          ]
        }
      ],
      "source": [
        "# --- Observacion 7 ---\n",
        "# - Vamos a agrupar la variable HOGHD01 en grupos\n",
        "\n",
        "# Definimos la función para agrupar\n",
        "def agrupar_habitaciones(n):\n",
        "    if n == 1:\n",
        "        return '1_hab'\n",
        "    elif n == 2:\n",
        "        return '2_hab'\n",
        "    elif n == 3:\n",
        "        return '3_hab'\n",
        "    elif n >= 4:\n",
        "        return '4_o_mas_hab'\n",
        "    else: # Para valores -1\n",
        "        return 'Desconocido'\n",
        "\n",
        "# Creamos la nueva columna agrupada usando .apply()\n",
        "df_extendido['HOGHD01_Agrupada'] = df_extendido['HOGHD01'].apply(agrupar_habitaciones)\n",
        "\n",
        "# Verificar los nuevos valores\n",
        "print(\"\\nValores en HOGHD01_Agrupada:\")\n",
        "print(df_extendido['HOGHD01_Agrupada'].value_counts(dropna=False))"
      ]
    },
    {
      "cell_type": "code",
      "execution_count": null,
      "metadata": {
        "id": "A0MGXxvCmMM7"
      },
      "outputs": [],
      "source": [
        "# Escalamos las variables numericas y ordinales (NIVELEDU, HOGPR01_CON_RRAA) usando RobustScaler (ideal para datos con valores atípicos)\n",
        "scaler = RobustScaler()\n",
        "num_col = ['HOGPR01_CON_RRAA', 'NIVELEDU']\n",
        "df_extendido[num_col] = scaler.fit_transform(df_extendido[num_col]).astype('int64')"
      ]
    },
    {
      "cell_type": "code",
      "execution_count": null,
      "metadata": {
        "id": "_-PDpCbsmMM8"
      },
      "outputs": [],
      "source": [
        "# Creamos las variables dummy para las variables categóricas (MATERIALIDAD_agrupada, HOGTE01, VIVDV07_Agrupada, AREA, REGION_4, HOGCE11, HOGCE28, PERNA01_TRAMO)\n",
        "cat_col = ['MATERIALIDAD_Agrupada', 'HOGHD01_Agrupada', 'HOGTE01', 'VIVDV07_Agrupada', 'AREA', 'REGION_4', 'HOGCE11', 'HOGCE28', 'PERNA01_TRAMO']\n",
        "IDs = df_extendido[['HOGAR_KEY', 'PERID']].copy()\n",
        "df_extendido = df_extendido.drop(columns=['HOGAR_KEY', 'PERID', 'MATERIALIDAD', 'HOGHD01', 'VIVDV07'])\n",
        "df_extendido = pd.get_dummies(df_extendido, columns=cat_col, drop_first=True)"
      ]
    },
    {
      "cell_type": "code",
      "execution_count": null,
      "metadata": {
        "colab": {
          "base_uri": "https://localhost:8080/"
        },
        "id": "RW_Erh7kmMM8",
        "outputId": "84fc00fb-f3ad-4441-9fcb-b03f82bd7ebf"
      },
      "outputs": [
        {
          "output_type": "stream",
          "name": "stdout",
          "text": [
            "<class 'pandas.core.frame.DataFrame'>\n",
            "Index: 1244169 entries, 0 to 1255202\n",
            "Data columns (total 31 columns):\n",
            " #   Column                          Non-Null Count    Dtype\n",
            "---  ------                          --------------    -----\n",
            " 0   HOGPR01_CON_RRAA                1244169 non-null  int64\n",
            " 1   NIVELEDU                        1244169 non-null  int64\n",
            " 2   MATERIALIDAD_Agrupada_Media     1244169 non-null  bool \n",
            " 3   MATERIALIDAD_Agrupada_Precaria  1244169 non-null  bool \n",
            " 4   HOGHD01_Agrupada_2_hab          1244169 non-null  bool \n",
            " 5   HOGHD01_Agrupada_3_hab          1244169 non-null  bool \n",
            " 6   HOGHD01_Agrupada_4_o_mas_hab    1244169 non-null  bool \n",
            " 7   HOGHD01_Agrupada_Desconocido    1244169 non-null  bool \n",
            " 8   HOGTE01_2                       1244169 non-null  bool \n",
            " 9   HOGTE01_3                       1244169 non-null  bool \n",
            " 10  HOGTE01_4                       1244169 non-null  bool \n",
            " 11  VIVDV07_Agrupada_Red_Publica    1244169 non-null  bool \n",
            " 12  AREA_2                          1244169 non-null  bool \n",
            " 13  REGION_4_2                      1244169 non-null  bool \n",
            " 14  REGION_4_3                      1244169 non-null  bool \n",
            " 15  REGION_4_4                      1244169 non-null  bool \n",
            " 16  HOGCE11_2                       1244169 non-null  bool \n",
            " 17  HOGCE28_2                       1244169 non-null  bool \n",
            " 18  PERNA01_TRAMO_20-24             1244169 non-null  bool \n",
            " 19  PERNA01_TRAMO_25-29             1244169 non-null  bool \n",
            " 20  PERNA01_TRAMO_30-34             1244169 non-null  bool \n",
            " 21  PERNA01_TRAMO_35-39             1244169 non-null  bool \n",
            " 22  PERNA01_TRAMO_40-44             1244169 non-null  bool \n",
            " 23  PERNA01_TRAMO_45-49             1244169 non-null  bool \n",
            " 24  PERNA01_TRAMO_50-54             1244169 non-null  bool \n",
            " 25  PERNA01_TRAMO_55-59             1244169 non-null  bool \n",
            " 26  PERNA01_TRAMO_60-64             1244169 non-null  bool \n",
            " 27  PERNA01_TRAMO_65-69             1244169 non-null  bool \n",
            " 28  PERNA01_TRAMO_70-74             1244169 non-null  bool \n",
            " 29  PERNA01_TRAMO_75-79             1244169 non-null  bool \n",
            " 30  PERNA01_TRAMO_80+               1244169 non-null  bool \n",
            "dtypes: bool(29), int64(2)\n",
            "memory usage: 62.9 MB\n"
          ]
        }
      ],
      "source": [
        "df_extendido.info()"
      ]
    },
    {
      "cell_type": "code",
      "execution_count": null,
      "metadata": {
        "colab": {
          "base_uri": "https://localhost:8080/",
          "height": 1000
        },
        "id": "cfQMK9wamMM8",
        "outputId": "07a7dc70-216e-42d7-bfb9-f13a2a75ae02"
      },
      "outputs": [
        {
          "output_type": "stream",
          "name": "stdout",
          "text": [
            "--- Calculando Métricas para K en [2, 3, 4, 5, 6, 7] ---\n",
            "--- Usando sample_size=50000 para Silhouette ---\n",
            "Probando k = 2...\n",
            "  -> fit_predict completado en 23.79 seg.\n",
            "  -> Silhouette Score calculado en 43.20 seg.\n",
            "  Resultado k = 2: Silhouette Score: 0.1027, Inertia: 3669326.90\n",
            "--------------------\n",
            "Probando k = 3...\n",
            "  -> fit_predict completado en 35.67 seg.\n",
            "  -> Silhouette Score calculado en 40.67 seg.\n",
            "  Resultado k = 3: Silhouette Score: 0.1039, Inertia: 3406334.76\n",
            "--------------------\n",
            "Probando k = 4...\n",
            "  -> fit_predict completado en 38.77 seg.\n",
            "  -> Silhouette Score calculado en 39.45 seg.\n",
            "  Resultado k = 4: Silhouette Score: 0.0899, Inertia: 3253986.58\n",
            "--------------------\n",
            "Probando k = 5...\n",
            "  -> fit_predict completado en 35.73 seg.\n",
            "  -> Silhouette Score calculado en 40.21 seg.\n",
            "  Resultado k = 5: Silhouette Score: 0.0879, Inertia: 3112054.00\n",
            "--------------------\n",
            "Probando k = 6...\n",
            "  -> fit_predict completado en 42.70 seg.\n",
            "  -> Silhouette Score calculado en 39.33 seg.\n",
            "  Resultado k = 6: Silhouette Score: 0.0858, Inertia: 3025384.66\n",
            "--------------------\n",
            "Probando k = 7...\n",
            "  -> fit_predict completado en 55.90 seg.\n",
            "  -> Silhouette Score calculado en 40.34 seg.\n",
            "  Resultado k = 7: Silhouette Score: 0.0828, Inertia: 2935299.84\n",
            "--------------------\n"
          ]
        },
        {
          "output_type": "display_data",
          "data": {
            "text/plain": [
              "<Figure size 1400x600 with 2 Axes>"
            ],
            "image/png": "[encoded data removed]"
          },
          "metadata": {}
        }
      ],
      "source": [
        "# Analizamos el numero de clusters a usar en Kmeans con el método del codo\n",
        "# Nota: Opción que me dio la AI ya que mi código era demasiado intensivo.\n",
        "\n",
        "import time # Para medir el tiempo\n",
        "\n",
        "# 1. Definir el rango y tamaño de muestra\n",
        "k_range = range(2, 8) # Puedes ajustar el rango (ej: hasta 10 si quieres explorar más)\n",
        "silhouette_sample_size = 50000 # Tamaño de la muestra para Silhouette (ajusta según RAM/tiempo)\n",
        "# Asegúrate que sample_size no sea mayor que el número de filas en tus datos\n",
        "if silhouette_sample_size > df_extendido.shape[0]:\n",
        "    silhouette_sample_size = df_extendido.shape[0]\n",
        "    print(f\"Aviso: sample_size reducido a {silhouette_sample_size} (tamaño total del dataset)\")\n",
        "\n",
        "silhouette_scores = []\n",
        "inertia_scores = []\n",
        "\n",
        "print(f\"--- Calculando Métricas para K en {list(k_range)} ---\")\n",
        "print(f\"--- Usando sample_size={silhouette_sample_size} para Silhouette ---\")\n",
        "\n",
        "for k in k_range:\n",
        "    start_time = time.time()\n",
        "    print(f\"Probando k = {k}...\")\n",
        "\n",
        "    kmeans = KMeans(n_clusters=k,\n",
        "                    init='k-means++',\n",
        "                    n_init=10, # n_init=10 es importante para estabilidad\n",
        "                    max_iter=300,\n",
        "                    random_state=42)\n",
        "\n",
        "    # Ajustar y predecir sobre los datos PREPROCESADOS\n",
        "    cluster_labels = kmeans.fit_predict(df_extendido)\n",
        "    fit_predict_time = time.time()\n",
        "    print(f\"  -> fit_predict completado en {fit_predict_time - start_time:.2f} seg.\")\n",
        "\n",
        "    # Calcular Silhouette Score\n",
        "    # Asegúrate de pasar los datos PREPROCESADOS\n",
        "    score = silhouette_score(df_extendido,\n",
        "                             cluster_labels,\n",
        "                             sample_size=silhouette_sample_size,\n",
        "                             random_state=42) # Añadir random_state para reproducibilidad del sampleo\n",
        "    silhouette_scores.append(score)\n",
        "    silhouette_time = time.time()\n",
        "    print(f\"  -> Silhouette Score calculado en {silhouette_time - fit_predict_time:.2f} seg.\")\n",
        "\n",
        "    # Calcular Inercia\n",
        "    # Nota: La inercia de MiniBatchKMeans no es directamente comparable a KMeans\n",
        "    inertia = kmeans.inertia_\n",
        "    inertia_scores.append(inertia)\n",
        "\n",
        "    print(f'  Resultado k = {k}: Silhouette Score: {score:.4f}, Inertia: {inertia:.2f}')\n",
        "    print(\"-\" * 20)\n",
        "\n",
        "# 2. Graficar los resultados (sin cambios en esta parte)\n",
        "plt.figure(figsize=(14, 6))\n",
        "# ... (resto del código de ploteo igual que antes) ...\n",
        "plt.subplot(1, 2, 1)\n",
        "plt.plot(k_range, inertia_scores, marker='o', linestyle='-')\n",
        "plt.title('Método del Codo (Inercia vs K)')\n",
        "plt.xlabel('Número de Clusters (k)')\n",
        "plt.ylabel('Inercia (WCSS)')\n",
        "plt.xticks(list(k_range))\n",
        "plt.grid(True)\n",
        "\n",
        "plt.subplot(1, 2, 2)\n",
        "plt.plot(k_range, silhouette_scores, marker='o', linestyle='-')\n",
        "plt.title(f'Coeficiente de Silueta (sample={silhouette_sample_size}) vs K') # Indica sample size\n",
        "plt.xlabel('Número de Clusters (k)')\n",
        "plt.ylabel('Coeficiente de Silueta Promedio')\n",
        "plt.xticks(list(k_range))\n",
        "plt.grid(True)\n",
        "\n",
        "plt.tight_layout()\n",
        "plt.show()"
      ]
    },
    {
      "cell_type": "code",
      "execution_count": null,
      "metadata": {
        "id": "mKEIQaJAmMM8"
      },
      "outputs": [],
      "source": [
        "# Creamos los clusters con el número óptimo (3 en este caso)\n",
        "\n",
        "n_clusters = 3\n",
        "\n",
        "# Inicializar el modelo K-Means\n",
        "kmeans = KMeans(n_clusters=n_clusters,\n",
        "                init='k-means++', # Algoritmo de inicialización estándar\n",
        "                n_init=10,        # Número de veces que se ejecuta con diferentes centroides iniciales\n",
        "                max_iter=300,     # Máximo de iteraciones por ejecución\n",
        "                random_state=42)\n",
        "\n",
        "# Entrenamos el modelo y predecimos los clusters\n",
        "cluster = kmeans.fit_predict(df_extendido)\n",
        "\n",
        "# Añadimos las etiquetas de cluster al dataframe\n",
        "df_extendido['Cluster'] = cluster"
      ]
    },
    {
      "cell_type": "code",
      "execution_count": null,
      "metadata": {
        "colab": {
          "base_uri": "https://localhost:8080/"
        },
        "id": "EeqaWiEkmMM8",
        "outputId": "5441f41b-11df-4517-b7c1-7d27c7307807"
      },
      "outputs": [
        {
          "output_type": "stream",
          "name": "stdout",
          "text": [
            "\n",
            "Se asignaron etiquetas para 3 clusters.\n",
            "Distribución de hogares por cluster:\n",
            "Cluster\n",
            "1    532337\n",
            "0    460652\n",
            "2    251180\n",
            "Name: count, dtype: int64\n",
            "\n",
            "Distribución de hogares por cluster (en porcentaje):\n",
            "Cluster\n",
            "1    42.786551\n",
            "0    37.024874\n",
            "2    20.188576\n",
            "Name: proportion, dtype: float64\n"
          ]
        }
      ],
      "source": [
        "# Verificamos el resultado\n",
        "print(f\"\\nSe asignaron etiquetas para {n_clusters} clusters.\")\n",
        "print(\"Distribución de hogares por cluster:\")\n",
        "print(df_extendido['Cluster'].value_counts())\n",
        "print(\"\\nDistribución de hogares por cluster (en porcentaje):\")\n",
        "print(df_extendido['Cluster'].value_counts(normalize=True) * 100)"
      ]
    },
    {
      "cell_type": "code",
      "execution_count": null,
      "metadata": {
        "id": "GEaQFqTCmMM9"
      },
      "outputs": [],
      "source": [
        "# Agregamos los clusters a nuestro dataset extendido original (sin el procesado)\n",
        "df_original = copia_seguridad.copy()\n",
        "df_original['Cluster'] = cluster"
      ]
    },
    {
      "cell_type": "code",
      "execution_count": null,
      "metadata": {
        "colab": {
          "base_uri": "https://localhost:8080/"
        },
        "id": "AMifwEKLmMM9",
        "outputId": "a8dec3d7-a372-4efa-d120-ea0e46ea02a1"
      },
      "outputs": [
        {
          "output_type": "stream",
          "name": "stdout",
          "text": [
            "\n",
            "Distribución de Acceso a Internet (HOGCE11) por Cluster:\n",
            "HOGCE11     1     2\n",
            "Cluster            \n",
            "0        51.0  49.0\n",
            "1        96.7   3.3\n",
            "2        88.9  11.1\n",
            "\n",
            "Distribución de Posesión de Dispositivo (HOGCE28) por Cluster:\n",
            "HOGCE28     1     2\n",
            "Cluster            \n",
            "0         4.0  96.0\n",
            "1        97.7   2.3\n",
            "2        75.8  24.2\n"
          ]
        }
      ],
      "source": [
        "# Ahora analizamos las características de cada cluster contra la conectividad\n",
        "\n",
        "# Analizmos HOGCE11 por Cluster\n",
        "print(\"\\nDistribución de Acceso a Internet (HOGCE11) por Cluster:\")\n",
        "# normalize='index' muestra el porcentaje DENTRO de cada cluster\n",
        "print(pd.crosstab(df_original['Cluster'], df_original['HOGCE11'], normalize='index').round(3) * 100)\n",
        "\n",
        "# Analizamos HOGCE28 por Cluster\n",
        "print(\"\\nDistribución de Posesión de Dispositivo (HOGCE28) por Cluster:\")\n",
        "print(pd.crosstab(df_original['Cluster'], df_original['HOGCE28'], normalize='index').round(3) * 100)"
      ]
    },
    {
      "cell_type": "code",
      "execution_count": null,
      "metadata": {
        "colab": {
          "base_uri": "https://localhost:8080/"
        },
        "id": "iHRFZ0jNmMM9",
        "outputId": "9db14bdc-5c1a-4752-8a95-3caa96382c4f"
      },
      "outputs": [
        {
          "output_type": "stream",
          "name": "stdout",
          "text": [
            "\n",
            "Características Numéricas Promedio por Cluster:\n",
            "         HOGPR01_CON_RRAA  NIVELEDU\n",
            "Cluster                            \n",
            "0                     2.0       4.0\n",
            "1                     2.0       6.0\n",
            "2                     4.0       4.0\n"
          ]
        }
      ],
      "source": [
        "print(\"\\nCaracterísticas Numéricas Promedio por Cluster:\")\n",
        "print(df_original.groupby('Cluster')[['HOGPR01_CON_RRAA', 'NIVELEDU']].median().round(2))"
      ]
    },
    {
      "cell_type": "markdown",
      "metadata": {
        "id": "C1ePWygLtRa4"
      },
      "source": [
        "**Hallazgos Clave Fase 1:** Mediante clustering (K-Means), se segmentaron los hogares uruguayos en tres grupos con patrones de conectividad y perfiles sociodemográficos diferenciados. Notablemente, se identificó un **Cluster 0 (~37% de los hogares)** que concentra la brecha digital, con solo 51.0% reportando acceso a internet y una mínima penetración de dispositivos (4.0%). Se caracteriza no tanto por una ausencia total de conexión (51% reporta acceso a internet), sino por una dependencia casi exclusiva de la conectividad móvil, evidenciada por la bajísima posesión de dispositivos como computadoras o tablets (4%). Esto sugiere una brecha digital centrada en el acceso limitado a herramientas para usos más avanzados de internet. Este grupo, asociado a hogares pequeños y bajo nivel educativo del jefe. Contrasta fuertemente con el **Cluster 1**, de alta conectividad general (97%) y mayor concentración en Montevideo y jefes de mayor nivel educativo, y con el **Cluster 2**, de alta conexión a internet pero menor acceso a dispositivos (89%/76%), caracterizado por hogares más grandes. La clara identificación del Cluster 0 como el segmento más vulnerable, con un componente territorial evidente, justifica proceder a la Fase 2 para analizar en profundidad sus características determinantes."
      ]
    },
    {
      "cell_type": "code",
      "execution_count": null,
      "metadata": {
        "id": "v6fhISnPmMM9"
      },
      "outputs": [],
      "source": [
        "# # Guardamos el dataset para su uso posterior\n",
        "df_original.to_csv('/content/data/df_final.csv', index=False)\n",
        "df_extendido.to_csv('/content/data/df_extendido.csv', index=False)"
      ]
    },
    {
      "cell_type": "markdown",
      "source": [
        "---\n",
        "# Fase 2: Identificación de Factores Asociados a Baja Conectividad (Cluster 0)\n",
        "\n",
        "## Objetivo\n",
        "\n",
        "Identificar las características socioeconómicas, demográficas y de vivienda más importantes que distinguen a los hogares del **Cluster 0 (Baja Conectividad)** del resto de la población (Clusters 1 y 2).\n",
        "\n",
        "## Metodología\n",
        "\n",
        "1.  **Target:** Crear variable binaria `BajaConectividad` (1 si Cluster=0, 0 si Cluster=1 ó 2).\n",
        "2.  **Features:** Utilizar las variables descriptivas empleadas en la Fase 1 para el clustering (excluyendo `HOGCE11`/`HOGCE28`).\n",
        "3.  **Modelado:** Entrenar modelos de clasificación **LightGBM** y **XGBoost** para predecir `BajaConectividad`.\n",
        "4.  **Análisis:** Extraer y comparar la **importancia de features (`feature_importances_`)** de ambos modelos para determinar los factores más relevantes asociados a la baja conectividad.\n",
        "\n",
        "> **Nota**: *La idea inicial era usar más variables en esta segunda fase, lamentablemente no me fue posible por tema de tiempo y la dificultad adicional asociada con la limpieza de nuevos datos.*"
      ],
      "metadata": {
        "id": "VfCkHOUK4Jbs"
      }
    },
    {
      "cell_type": "code",
      "source": [
        "# --- Importar librerías necesarias ---\n",
        "from sklearn.model_selection import train_test_split\n",
        "from sklearn.pipeline import Pipeline\n",
        "from sklearn.metrics import classification_report, roc_auc_score, confusion_matrix, ConfusionMatrixDisplay\n",
        "import lightgbm as lgb\n",
        "import xgboost as xgb\n",
        "import pandas as pd\n",
        "import time"
      ],
      "metadata": {
        "id": "WiPkhdVKEcty"
      },
      "execution_count": null,
      "outputs": []
    },
    {
      "cell_type": "code",
      "source": [
        "# df_extendido = pd.read_csv('/content/data/df_extendido.csv')"
      ],
      "metadata": {
        "id": "nb8QMd-TG2FF"
      },
      "execution_count": null,
      "outputs": []
    },
    {
      "cell_type": "code",
      "source": [
        "# --- Crear la Variable Target 'BajaConectividad' ---\n",
        "\n",
        "# Target = 1 si Cluster es 0, sino Target = 0\n",
        "df_extendido['BajaConectividad'] = (df_extendido['Cluster'] == 0).astype(int)\n",
        "\n",
        "# Verificar la distribución del target\n",
        "print(\"\\nDistribución de la variable objetivo 'BajaConectividad':\")\n",
        "print(df_extendido['BajaConectividad'].value_counts(normalize=True).round(3) * 100) # En porcentaje"
      ],
      "metadata": {
        "colab": {
          "base_uri": "https://localhost:8080/"
        },
        "id": "dsPwjkTv7uCD",
        "outputId": "7d966be1-0fd2-4245-c890-7448dbf617ed"
      },
      "execution_count": null,
      "outputs": [
        {
          "output_type": "stream",
          "name": "stdout",
          "text": [
            "\n",
            "Distribución de la variable objetivo 'BajaConectividad':\n",
            "BajaConectividad\n",
            "0    63.0\n",
            "1    37.0\n",
            "Name: proportion, dtype: float64\n"
          ]
        }
      ]
    },
    {
      "cell_type": "code",
      "source": [
        "# --- 1. Separar Features (X) y Target (y) ---\n",
        "\n",
        "# Definir columnas a excluir de las features\n",
        "ids_a_excluir = ['Cluster', 'HOGCE11_2', 'HOGCE28_2']\n",
        "\n",
        "# Nombre de la columna Target\n",
        "target = 'BajaConectividad'\n",
        "\n",
        "# Seleccionar columnas features\n",
        "columnas_features = df_extendido.columns.difference(ids_a_excluir + [target]).tolist()\n",
        "\n",
        "X = df_extendido[columnas_features]\n",
        "y = df_extendido[target]\n",
        "\n",
        "# --- 2. Separar Datos en Entrenamiento y Prueba ---\n",
        "# test_size=0.2 significa 20% para prueba, 80% para entrenamiento\n",
        "# stratify=y asegura que la proporción de clases (0 y 1) sea similar en ambos sets\n",
        "\n",
        "X_train, X_test, y_train, y_test = train_test_split(\n",
        "    X, y,\n",
        "    test_size=0.2,\n",
        "    random_state=42,\n",
        "    stratify=y\n",
        ")\n",
        "\n",
        "print(f\"\\nTamaño set Entrenamiento: X={X_train.shape}, y={y_train.shape}\")\n",
        "print(f\"Tamaño set Prueba: X={X_test.shape}, y={y_test.shape}\")\n",
        "print(f\"Distribución del target y_train:\\n{y_train.value_counts(normalize=True)}\")\n",
        "print(f\"Distribución del target y_test:\\n{y_test.value_counts(normalize=True)}\")\n",
        "\n",
        "# --- 3. Entrenar y Evaluar LightGBM ---\n",
        "\n",
        "print(\"\\n--- Entrenando LightGBM ---\")\n",
        "start_time_lgbm = time.time()\n",
        "\n",
        "# Creamos el modelo\n",
        "lgbm_model = lgb.LGBMClassifier(random_state=42)\n",
        "\n",
        "# Entrenamos\n",
        "lgbm_model.fit(X_train, y_train)\n",
        "fit_time_lgbm = time.time()\n",
        "print(f\"  -> Entrenamiento LGBM completado en {fit_time_lgbm - start_time_lgbm:.2f} seg.\")\n",
        "\n",
        "# Predecimos en el set de prueba\n",
        "y_pred_lgbm = lgbm_model.predict(X_test)\n",
        "y_proba_lgbm = lgbm_model.predict_proba(X_test)[:, 1]\n",
        "\n",
        "# Evaluamos LGBM\n",
        "print(\"\\n--- Evaluación LightGBM (en datos de prueba) ---\")\n",
        "print(\"Classification Report:\")\n",
        "print(classification_report(y_test, y_pred_lgbm))\n",
        "print(f\"ROC AUC Score: {roc_auc_score(y_test, y_proba_lgbm):.4f}\")\n",
        "\n",
        "print(\"\\nConfusion Matrix (LGBM):\")\n",
        "cm_lgbm = confusion_matrix(y_test, y_pred_lgbm)\n",
        "disp_lgbm = ConfusionMatrixDisplay(confusion_matrix=cm_lgbm)\n",
        "disp_lgbm.plot()\n",
        "plt.title('Confusion Matrix - LightGBM')\n",
        "plt.show()\n",
        "\n",
        "# --- 4. Entrenar y Evaluar XGBoost ---\n",
        "\n",
        "print(\"\\n--- Entrenando XGBoost ---\")\n",
        "start_time_xgb = time.time()\n",
        "\n",
        "# Creamos el modelo (es mejor usar logloss para modelos de clasificación)\n",
        "xgb_model = xgb.XGBClassifier(random_state=42, use_label_encoder=False, eval_metric='logloss')\n",
        "\n",
        "# Entrenamos sobre X_train\n",
        "xgb_model.fit(X_train, y_train)\n",
        "fit_time_xgb = time.time()\n",
        "print(f\"  -> Entrenamiento XGBoost completado en {fit_time_xgb - start_time_xgb:.2f} seg.\")\n",
        "\n",
        "# Predecimos en el set de prueba\n",
        "y_pred_xgb = xgb_model.predict(X_test)\n",
        "y_proba_xgb = xgb_model.predict_proba(X_test)[:, 1]\n",
        "\n",
        "# Evaluamos XGBoost\n",
        "print(\"\\n--- Evaluación XGBoost (en datos de prueba) ---\")\n",
        "print(\"Classification Report:\")\n",
        "print(classification_report(y_test, y_pred_xgb))\n",
        "print(f\"ROC AUC Score: {roc_auc_score(y_test, y_proba_xgb):.4f}\")\n",
        "\n",
        "print(\"\\nConfusion Matrix (XGBoost):\")\n",
        "cm_xgb = confusion_matrix(y_test, y_pred_xgb)\n",
        "disp_xgb = ConfusionMatrixDisplay(confusion_matrix=cm_xgb)\n",
        "disp_xgb.plot()\n",
        "plt.title('Confusion Matrix - XGBoost')\n",
        "plt.show()\n",
        "\n",
        "# --- 5. Comparación y Selección del Mejor Modelo ---\n",
        "print(\"\\n--- Comparación de Métricas Clave ---\")\n",
        "print(f\"LGBM ROC AUC: {roc_auc_score(y_test, y_proba_lgbm):.4f}\")\n",
        "print(f\"XGBoost ROC AUC: {roc_auc_score(y_test, y_proba_xgb):.4f}\")"
      ],
      "metadata": {
        "colab": {
          "base_uri": "https://localhost:8080/",
          "height": 1000
        },
        "id": "f2-xA3lDERv2",
        "outputId": "beb20be3-44cd-4122-a2e8-f9a8cc36dd82"
      },
      "execution_count": null,
      "outputs": [
        {
          "output_type": "stream",
          "name": "stdout",
          "text": [
            "Dimensiones de X: (1244169, 29)\n",
            "Dimensiones de y: (1244169,)\n",
            "Distribución del target y:\n",
            "BajaConectividad\n",
            "0    0.629751\n",
            "1    0.370249\n",
            "Name: proportion, dtype: float64\n",
            "\n",
            "Tamaño set Entrenamiento: X=(995335, 29), y=(995335,)\n",
            "Tamaño set Prueba (Unseen): X=(248834, 29), y=(248834,)\n",
            "Distribución del target y_train:\n",
            "BajaConectividad\n",
            "0    0.629751\n",
            "1    0.370249\n",
            "Name: proportion, dtype: float64\n",
            "Distribución del target y_test:\n",
            "BajaConectividad\n",
            "0    0.629753\n",
            "1    0.370247\n",
            "Name: proportion, dtype: float64\n",
            "\n",
            "--- Entrenando LightGBM ---\n",
            "[LightGBM] [Info] Number of positive: 368522, number of negative: 626813\n",
            "[LightGBM] [Info] Auto-choosing row-wise multi-threading, the overhead of testing was 0.131047 seconds.\n",
            "You can set `force_row_wise=true` to remove the overhead.\n",
            "And if memory is not enough, you can set `force_col_wise=true`.\n",
            "[LightGBM] [Info] Total Bins 64\n",
            "[LightGBM] [Info] Number of data points in the train set: 995335, number of used features: 28\n",
            "[LightGBM] [Info] [binary:BoostFromScore]: pavg=0.370249 -> initscore=-0.531148\n",
            "[LightGBM] [Info] Start training from score -0.531148\n",
            "  -> Entrenamiento LGBM completado en 18.16 seg.\n",
            "\n",
            "--- Evaluación LightGBM (en datos de prueba) ---\n",
            "Classification Report:\n",
            "              precision    recall  f1-score   support\n",
            "\n",
            "           0       0.82      0.81      0.82    156704\n",
            "           1       0.69      0.70      0.70     92130\n",
            "\n",
            "    accuracy                           0.77    248834\n",
            "   macro avg       0.76      0.76      0.76    248834\n",
            "weighted avg       0.77      0.77      0.77    248834\n",
            "\n",
            "ROC AUC Score: 0.8615\n",
            "\n",
            "Confusion Matrix (LGBM):\n"
          ]
        },
        {
          "output_type": "display_data",
          "data": {
            "text/plain": [
              "<Figure size 640x480 with 2 Axes>"
            ],
            "image/png": "[encoded data removed]"
          },
          "metadata": {}
        },
        {
          "output_type": "stream",
          "name": "stdout",
          "text": [
            "\n",
            "--- Entrenando XGBoost ---\n"
          ]
        },
        {
          "output_type": "stream",
          "name": "stderr",
          "text": [
            "/usr/local/lib/python3.11/dist-packages/xgboost/core.py:158: UserWarning: [21:39:56] WARNING: /workspace/src/learner.cc:740: \n",
            "Parameters: { \"use_label_encoder\" } are not used.\n",
            "\n",
            "  warnings.warn(smsg, UserWarning)\n"
          ]
        },
        {
          "output_type": "stream",
          "name": "stdout",
          "text": [
            "  -> Entrenamiento XGBoost completado en 20.44 seg.\n",
            "\n",
            "--- Evaluación XGBoost (en datos de prueba) ---\n",
            "Classification Report:\n",
            "              precision    recall  f1-score   support\n",
            "\n",
            "           0       0.83      0.81      0.82    156704\n",
            "           1       0.69      0.71      0.70     92130\n",
            "\n",
            "    accuracy                           0.77    248834\n",
            "   macro avg       0.76      0.76      0.76    248834\n",
            "weighted avg       0.78      0.77      0.77    248834\n",
            "\n",
            "ROC AUC Score: 0.8617\n",
            "\n",
            "Confusion Matrix (XGBoost):\n"
          ]
        },
        {
          "output_type": "display_data",
          "data": {
            "text/plain": [
              "<Figure size 640x480 with 2 Axes>"
            ],
            "image/png": "[encoded data removed]"
          },
          "metadata": {}
        },
        {
          "output_type": "stream",
          "name": "stdout",
          "text": [
            "\n",
            "--- Comparación de Métricas Clave ---\n",
            "LGBM ROC AUC: 0.8615\n",
            "XGBoost ROC AUC: 0.8617\n"
          ]
        }
      ]
    },
    {
      "cell_type": "code",
      "source": [
        "# Guardar el MEJOR modelo entrenado\n",
        "if roc_auc_score(y_test, y_proba_lgbm) > roc_auc_score(y_test, y_proba_xgb):\n",
        "    mejor_modelo = lgbm_model\n",
        "    mejor_modelo_nombre = \"LightGBM\"\n",
        "    print(\"\\nModelo seleccionado: LightGBM\")\n",
        "else:\n",
        "    mejor_modelo = xgb_model\n",
        "    mejor_modelo_nombre = \"XGBoost\"\n",
        "    print(\"\\nModelo seleccionado: XGBoost\")\n",
        "\n",
        "# Guardamos la importancia de las features del mejor modelo\n",
        "importances = mejor_modelo.feature_importances_\n",
        "\n",
        "feature_importance_df = pd.DataFrame({'Feature': X_train.columns, 'Importance': importances})\n",
        "feature_importance_df = feature_importance_df.sort_values(by='Importance', ascending=False)\n",
        "print(\"\\nImportancia de Features (del mejor modelo):\")\n",
        "print(feature_importance_df.head(15)) # Mostrar las 15 más importantes\n",
        "plt.figure(figsize=(10, 8))\n",
        "plt.barh(feature_importance_df['Feature'][:15], feature_importance_df['Importance'][:15])\n",
        "plt.xlabel(\"Importancia\")\n",
        "plt.ylabel(\"Feature\")\n",
        "plt.title(f\"Top 15 Features más importantes ({mejor_modelo_nombre})\")\n",
        "plt.gca().invert_yaxis()\n",
        "plt.show()"
      ],
      "metadata": {
        "colab": {
          "base_uri": "https://localhost:8080/",
          "height": 1000
        },
        "id": "QXWOO2FDGriL",
        "outputId": "87c95620-2336-4aa9-b7de-47119a992e04"
      },
      "execution_count": null,
      "outputs": [
        {
          "output_type": "stream",
          "name": "stdout",
          "text": [
            "\n",
            "Modelo seleccionado: XGBoost\n",
            "\n",
            "Importancia de Features (del mejor modelo):\n",
            "                           Feature  Importance\n",
            "5                 HOGPR01_CON_RRAA    0.322669\n",
            "11                        NIVELEDU    0.224102\n",
            "2           HOGHD01_Agrupada_3_hab    0.072959\n",
            "9      MATERIALIDAD_Agrupada_Media    0.059223\n",
            "24               PERNA01_TRAMO_80+    0.048514\n",
            "1           HOGHD01_Agrupada_2_hab    0.033608\n",
            "15             PERNA01_TRAMO_35-39    0.029984\n",
            "14             PERNA01_TRAMO_30-34    0.026791\n",
            "16             PERNA01_TRAMO_40-44    0.023914\n",
            "3     HOGHD01_Agrupada_4_o_mas_hab    0.019585\n",
            "17             PERNA01_TRAMO_45-49    0.017266\n",
            "23             PERNA01_TRAMO_75-79    0.014314\n",
            "8                        HOGTE01_4    0.011918\n",
            "10  MATERIALIDAD_Agrupada_Precaria    0.011505\n",
            "13             PERNA01_TRAMO_25-29    0.011450\n"
          ]
        },
        {
          "output_type": "display_data",
          "data": {
            "text/plain": [
              "<Figure size 1000x800 with 1 Axes>"
            ],
            "image/png": "[encoded data removed]"
          },
          "metadata": {}
        }
      ]
    },
    {
      "cell_type": "markdown",
      "source": [
        "---\n",
        "\n",
        "# Conclusiones del Análisis de Brecha Digital (Censo 2023)\n",
        "\n",
        "Este proyecto analizó la brecha digital en Uruguay utilizando microdatos del Censo 2023, combinando técnicas de clustering y clasificación para identificar perfiles de conectividad y los factores asociados a la baja adopción tecnológica.\n",
        "\n",
        "## Hallazgos Fase 1: Perfiles de Conectividad (Clustering K-Means)\n",
        "\n",
        "Se identificaron tres clusters principales de hogares: **Cluster 1 (\"Alta Conectividad\")**, con acceso casi universal, mayor nivel educativo del jefe y concentración en Montevideo; **Cluster 2 (\"Conectividad Media-Alta / Hogares Grandes\")**, con alta conexión a internet pero menor penetración de dispositivos y caracterizado por hogares más grandes; y **Cluster 0 (\"Baja Conectividad / Exclusión Digital\")**, núcleo de la brecha digital (~51% internet, ~4% dispositivos), asociado a hogares pequeños, bajo nivel educativo del jefe y con una **mayor presencia relativa en el Interior del país y zonas rurales**.\n",
        "\n",
        "Se identificaron **tres clusters principales** de hogares con características distintivas:\n",
        "\n",
        "1.  **Cluster 1 (\"Alta Conectividad\"):** Acceso casi universal a internet y dispositivos, asociado a hogares con mayor nivel educativo del jefe y concentración en Montevideo.\n",
        "2.  **Cluster 2 (\"Conectividad Media-Alta / Hogares Grandes\"):** Alta conexión a internet pero menor penetración de dispositivos, caracterizado por ser hogares significativamente más grandes.\n",
        "3.  **Cluster 0 (\"Baja Conectividad / Exclusión Digital\"):** Marcado por un bajo acceso a internet (51%) y muy baja posesión de dispositivos (4%) caracterizado, no tanto por una ausencia total de conexión (51% reporta acceso a internet), sino por una dependencia casi exclusiva de la conectividad móvil, evidenciada por la bajísima posesión de dispositivos como computadoras o tablets (4%). Esto sugiere una brecha digital centrada en el acceso limitado a herramientas para usos más avanzados de internet, asociado a hogares pequeños, bajo nivel educativo del jefe y con una **mayor presencia relativa en el Interior del país y zonas rurales**. Este cluster representa el núcleo de la brecha digital.\n",
        "\n",
        "## Hallazgos Fase 2: Factores Determinantes de la Baja Conectividad (XGBoost/LightGBM)\n",
        "\n",
        "Para entender qué diferencia al Cluster 0 del resto, se entrenaron modelos de clasificación (XGBoost/LightGBM). El análisis de importancia de features reveló los siguientes factores como los más determinantes para predecir la pertenencia al grupo de baja conectividad:\n",
        "\n",
        "1. **`HOGPR01_CON_RRAA` (Número de Personas):** La variable más importante. Aunque los Clusters 0 y 1 tienen un tamaño promedio similar (2.0 personas), esta variable es crucial porque **distingue fuertemente a los hogares más grandes (promedio 4.0) del Cluster 2**, que por lo tanto no pertenecen al grupo de baja conectividad (Cluster 0). Un tamaño reducido del hogar es una condición necesaria, aunque no suficiente, para pertenecer al Cluster 0 o 1.\n",
        "2.  **`NIVELEDU` (Nivel Educativo del Jefe):** Factor clave. Un menor nivel educativo diferencia claramente al Cluster 0 (promedio 4.0) del Cluster 1 (promedio 6.0), ambos de tamaño similar, asociando baja educación con baja conectividad.\n",
        "3.  **`HOGHD01_Agrupada` (Habitaciones):** Menor número de habitaciones asociado al Cluster 0, reforzando la asociación de baja conectividad con hogares más pequeños y/o con posible hacinamiento relativo.\n",
        "4.  **`MATERIALIDAD_Agrupada` (Calidad Vivienda):** La categoría \"Media\" y (en menor medida) \"Precaria\" son relevantes, sugiriendo que condiciones de vivienda no óptimas se asocian con menor conectividad, probablemente como proxy de nivel socioeconómico.\n",
        "5.  **`PERNA01_TRAMO` (Edad del Jefe):** Varios tramos de edad aparecen en el top 15, destacando **\"80+\"** y rangos de **edad media (30-49)**. Esto sugiere que tanto hogares con jefes muy mayores como algunos en edad activa pero con otras carencias (bajo nivel educativo) son propensos a la baja conectividad.\n",
        "\n",
        "## Conclusión General\n",
        "\n",
        "El análisis confirma la existencia de una brecha digital significativa en Uruguay (Cluster 0), asociada a **bajo nivel educativo del jefe**, **tamaño reducido del hogar** (aunque compartido con el cluster de alta conectividad), **condiciones de vivienda no óptimas**, **edad avanzada o media del jefe**, y una **mayor incidencia fuera de la capital y en zonas rurales**. La **educación** emerge como el principal diferenciador socioeconómico directo de la baja conectividad, mientras que el tamaño del hogar ayuda a segmentar otros perfiles. Las condiciones socioeconómicas (reflejadas por educación, materialidad) y territoriales son determinantes estructurales clave."
      ],
      "metadata": {
        "id": "zIzqUfyuSrJ1"
      }
    }
  ],
  "metadata": {
    "colab": {
      "provenance": []
    },
    "kernelspec": {
      "display_name": "analyst",
      "language": "python",
      "name": "python3"
    },
    "language_info": {
      "codemirror_mode": {
        "name": "ipython",
        "version": 3
      },
      "file_extension": ".py",
      "mimetype": "text/x-python",
      "name": "python",
      "nbconvert_exporter": "python",
      "pygments_lexer": "ipython3",
      "version": "3.11.9"
    }
  },
  "nbformat": 4,
  "nbformat_minor": 0
}